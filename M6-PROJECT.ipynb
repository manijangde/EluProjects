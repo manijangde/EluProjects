{
 "cells": [
  {
   "cell_type": "markdown",
   "metadata": {},
   "source": [
    "# M6 - WEEK 6 | PROJECT: Kaggle Competition - Predict Traffic Congestion\n",
    "\n",
    "\n",
    "**Assignment Background:**\n",
    "\n",
    "The final assignment you will work on is going to be a bit different. You will combine a lot of the skills and knowledge you have built on throughout the modules and participate in a Kaggle competition.\n",
    "\n",
    "\n",
    "**Assignment Scope:**\n",
    "\n",
    "Your task is to predict traffic congestion based on aggregate measures of  stopping distance and waiting times at intersections in 4 major US cities. Follow the instructions in the competition to make sure you understand the problem, data and submission requirements.\n",
    "\n",
    "\n",
    "As you are building a predictive model or models, make sure you follow some of the best practices we have learned so far:\n",
    "\n",
    "1)    Clean and then visually explore your data before you start the analysis\n",
    "\n",
    "2)    Don’t just make assumptions, whenever possible, use statistical analysis to test hypotheses and find relationships in the data\n",
    "\n",
    "3)    Build and compare predictive models in terms of their performance\n",
    "\n",
    "Submit your Jupyter notebook and link to a Kaggle kernel. What is your position in the leader board?\n",
    "\n",
    "\n",
    "**Data Source:** \n",
    "\n",
    "Dataset: https://www.kaggle.com/c/bigquery-geotab-intersection-congestion/overview\n",
    "\n",
    "**Tool and Packages:**\n",
    "\n",
    " * python language 3.7.2\n",
    " * python library : numpy, pandas, matplotlib.pyplot, keras, sklearn\n",
    " "
   ]
  },
  {
   "cell_type": "markdown",
   "metadata": {},
   "source": [
    "**Importing Python Libs:**"
   ]
  },
  {
   "cell_type": "code",
   "execution_count": 108,
   "metadata": {},
   "outputs": [],
   "source": [
    "#import pacakages and libs:\n",
    "\n",
    "import pandas as pd\n",
    "import numpy as np\n",
    "import matplotlib as plt\n",
    "import matplotlib.pyplot as plt\n",
    "import seaborn as sns\n",
    "\n",
    "\n",
    "import warnings\n",
    "warnings.filterwarnings(\"ignore\")\n",
    "\n",
    "# IMport sklearn modules:\n",
    "from sklearn.linear_model import LinearRegression\n",
    "from sklearn.metrics import mean_squared_error, r2_score\n",
    "from sklearn.model_selection import train_test_split\n",
    "from sklearn.preprocessing import StandardScaler\n",
    "from catboost import CatBoostRegressor\n",
    "from sklearn.linear_model import Ridge\n",
    "from sklearn.linear_model import Lasso\n",
    "import lightgbm as lgb"
   ]
  },
  {
   "cell_type": "markdown",
   "metadata": {},
   "source": [
    "## Data Processing : Loading, Cleaning and Pre-Processing"
   ]
  },
  {
   "cell_type": "code",
   "execution_count": 109,
   "metadata": {},
   "outputs": [],
   "source": [
    "#loading training and test dataset: using pandas \n",
    "train = pd.read_csv(\"train.csv\")\n",
    "test = pd.read_csv(\"test.csv\")"
   ]
  },
  {
   "cell_type": "code",
   "execution_count": 110,
   "metadata": {},
   "outputs": [
    {
     "data": {
      "text/html": [
       "<div>\n",
       "<style scoped>\n",
       "    .dataframe tbody tr th:only-of-type {\n",
       "        vertical-align: middle;\n",
       "    }\n",
       "\n",
       "    .dataframe tbody tr th {\n",
       "        vertical-align: top;\n",
       "    }\n",
       "\n",
       "    .dataframe thead th {\n",
       "        text-align: right;\n",
       "    }\n",
       "</style>\n",
       "<table border=\"1\" class=\"dataframe\">\n",
       "  <thead>\n",
       "    <tr style=\"text-align: right;\">\n",
       "      <th></th>\n",
       "      <th>RowId</th>\n",
       "      <th>IntersectionId</th>\n",
       "      <th>Latitude</th>\n",
       "      <th>Longitude</th>\n",
       "      <th>EntryStreetName</th>\n",
       "      <th>ExitStreetName</th>\n",
       "      <th>EntryHeading</th>\n",
       "      <th>ExitHeading</th>\n",
       "      <th>Hour</th>\n",
       "      <th>Weekend</th>\n",
       "      <th>Month</th>\n",
       "      <th>Path</th>\n",
       "      <th>TotalTimeStopped_p20</th>\n",
       "      <th>TotalTimeStopped_p40</th>\n",
       "      <th>TotalTimeStopped_p50</th>\n",
       "      <th>TotalTimeStopped_p60</th>\n",
       "      <th>TotalTimeStopped_p80</th>\n",
       "      <th>TimeFromFirstStop_p20</th>\n",
       "      <th>TimeFromFirstStop_p40</th>\n",
       "      <th>TimeFromFirstStop_p50</th>\n",
       "      <th>TimeFromFirstStop_p60</th>\n",
       "      <th>TimeFromFirstStop_p80</th>\n",
       "      <th>DistanceToFirstStop_p20</th>\n",
       "      <th>DistanceToFirstStop_p40</th>\n",
       "      <th>DistanceToFirstStop_p50</th>\n",
       "      <th>DistanceToFirstStop_p60</th>\n",
       "      <th>DistanceToFirstStop_p80</th>\n",
       "      <th>City</th>\n",
       "    </tr>\n",
       "  </thead>\n",
       "  <tbody>\n",
       "    <tr>\n",
       "      <th>0</th>\n",
       "      <td>1920335</td>\n",
       "      <td>0</td>\n",
       "      <td>33.79166</td>\n",
       "      <td>-84.43003</td>\n",
       "      <td>Marietta Boulevard Northwest</td>\n",
       "      <td>Marietta Boulevard Northwest</td>\n",
       "      <td>NW</td>\n",
       "      <td>NW</td>\n",
       "      <td>0</td>\n",
       "      <td>0</td>\n",
       "      <td>6</td>\n",
       "      <td>Marietta Boulevard Northwest_NW_Marietta Boule...</td>\n",
       "      <td>0</td>\n",
       "      <td>0</td>\n",
       "      <td>0</td>\n",
       "      <td>0</td>\n",
       "      <td>0</td>\n",
       "      <td>0</td>\n",
       "      <td>0</td>\n",
       "      <td>0</td>\n",
       "      <td>0</td>\n",
       "      <td>0</td>\n",
       "      <td>0.0</td>\n",
       "      <td>0.0</td>\n",
       "      <td>0.0</td>\n",
       "      <td>0.0</td>\n",
       "      <td>0.0</td>\n",
       "      <td>Atlanta</td>\n",
       "    </tr>\n",
       "    <tr>\n",
       "      <th>1</th>\n",
       "      <td>1920336</td>\n",
       "      <td>0</td>\n",
       "      <td>33.79166</td>\n",
       "      <td>-84.43003</td>\n",
       "      <td>Marietta Boulevard Northwest</td>\n",
       "      <td>Marietta Boulevard Northwest</td>\n",
       "      <td>SE</td>\n",
       "      <td>SE</td>\n",
       "      <td>0</td>\n",
       "      <td>0</td>\n",
       "      <td>6</td>\n",
       "      <td>Marietta Boulevard Northwest_SE_Marietta Boule...</td>\n",
       "      <td>0</td>\n",
       "      <td>0</td>\n",
       "      <td>0</td>\n",
       "      <td>0</td>\n",
       "      <td>0</td>\n",
       "      <td>0</td>\n",
       "      <td>0</td>\n",
       "      <td>0</td>\n",
       "      <td>0</td>\n",
       "      <td>0</td>\n",
       "      <td>0.0</td>\n",
       "      <td>0.0</td>\n",
       "      <td>0.0</td>\n",
       "      <td>0.0</td>\n",
       "      <td>0.0</td>\n",
       "      <td>Atlanta</td>\n",
       "    </tr>\n",
       "  </tbody>\n",
       "</table>\n",
       "</div>"
      ],
      "text/plain": [
       "     RowId  IntersectionId  Latitude  Longitude               EntryStreetName  \\\n",
       "0  1920335               0  33.79166  -84.43003  Marietta Boulevard Northwest   \n",
       "1  1920336               0  33.79166  -84.43003  Marietta Boulevard Northwest   \n",
       "\n",
       "                 ExitStreetName EntryHeading ExitHeading  Hour  Weekend  \\\n",
       "0  Marietta Boulevard Northwest           NW          NW     0        0   \n",
       "1  Marietta Boulevard Northwest           SE          SE     0        0   \n",
       "\n",
       "   Month                                               Path  \\\n",
       "0      6  Marietta Boulevard Northwest_NW_Marietta Boule...   \n",
       "1      6  Marietta Boulevard Northwest_SE_Marietta Boule...   \n",
       "\n",
       "   TotalTimeStopped_p20  TotalTimeStopped_p40  TotalTimeStopped_p50  \\\n",
       "0                     0                     0                     0   \n",
       "1                     0                     0                     0   \n",
       "\n",
       "   TotalTimeStopped_p60  TotalTimeStopped_p80  TimeFromFirstStop_p20  \\\n",
       "0                     0                     0                      0   \n",
       "1                     0                     0                      0   \n",
       "\n",
       "   TimeFromFirstStop_p40  TimeFromFirstStop_p50  TimeFromFirstStop_p60  \\\n",
       "0                      0                      0                      0   \n",
       "1                      0                      0                      0   \n",
       "\n",
       "   TimeFromFirstStop_p80  DistanceToFirstStop_p20  DistanceToFirstStop_p40  \\\n",
       "0                      0                      0.0                      0.0   \n",
       "1                      0                      0.0                      0.0   \n",
       "\n",
       "   DistanceToFirstStop_p50  DistanceToFirstStop_p60  DistanceToFirstStop_p80  \\\n",
       "0                      0.0                      0.0                      0.0   \n",
       "1                      0.0                      0.0                      0.0   \n",
       "\n",
       "      City  \n",
       "0  Atlanta  \n",
       "1  Atlanta  "
      ]
     },
     "execution_count": 110,
     "metadata": {},
     "output_type": "execute_result"
    }
   ],
   "source": [
    "pd.set_option('display.max_columns', 50)\n",
    "\n",
    "#First 5 rows of dataframe:\n",
    "train.head(2)"
   ]
  },
  {
   "cell_type": "code",
   "execution_count": 111,
   "metadata": {},
   "outputs": [
    {
     "data": {
      "text/html": [
       "<div>\n",
       "<style scoped>\n",
       "    .dataframe tbody tr th:only-of-type {\n",
       "        vertical-align: middle;\n",
       "    }\n",
       "\n",
       "    .dataframe tbody tr th {\n",
       "        vertical-align: top;\n",
       "    }\n",
       "\n",
       "    .dataframe thead th {\n",
       "        text-align: right;\n",
       "    }\n",
       "</style>\n",
       "<table border=\"1\" class=\"dataframe\">\n",
       "  <thead>\n",
       "    <tr style=\"text-align: right;\">\n",
       "      <th></th>\n",
       "      <th>RowId</th>\n",
       "      <th>IntersectionId</th>\n",
       "      <th>Latitude</th>\n",
       "      <th>Longitude</th>\n",
       "      <th>EntryStreetName</th>\n",
       "      <th>ExitStreetName</th>\n",
       "      <th>EntryHeading</th>\n",
       "      <th>ExitHeading</th>\n",
       "      <th>Hour</th>\n",
       "      <th>Weekend</th>\n",
       "      <th>Month</th>\n",
       "      <th>Path</th>\n",
       "      <th>City</th>\n",
       "    </tr>\n",
       "  </thead>\n",
       "  <tbody>\n",
       "    <tr>\n",
       "      <th>0</th>\n",
       "      <td>0</td>\n",
       "      <td>1</td>\n",
       "      <td>33.75094</td>\n",
       "      <td>-84.39303</td>\n",
       "      <td>Peachtree Street Southwest</td>\n",
       "      <td>Mitchell Street Southwest</td>\n",
       "      <td>SW</td>\n",
       "      <td>SE</td>\n",
       "      <td>0</td>\n",
       "      <td>0</td>\n",
       "      <td>6</td>\n",
       "      <td>Peachtree Street Southwest_SW_Mitchell Street ...</td>\n",
       "      <td>Atlanta</td>\n",
       "    </tr>\n",
       "    <tr>\n",
       "      <th>1</th>\n",
       "      <td>1</td>\n",
       "      <td>1</td>\n",
       "      <td>33.75094</td>\n",
       "      <td>-84.39303</td>\n",
       "      <td>Peachtree Street Southwest</td>\n",
       "      <td>Peachtree Street Southwest</td>\n",
       "      <td>SW</td>\n",
       "      <td>SW</td>\n",
       "      <td>0</td>\n",
       "      <td>0</td>\n",
       "      <td>6</td>\n",
       "      <td>Peachtree Street Southwest_SW_Peachtree Street...</td>\n",
       "      <td>Atlanta</td>\n",
       "    </tr>\n",
       "  </tbody>\n",
       "</table>\n",
       "</div>"
      ],
      "text/plain": [
       "   RowId  IntersectionId  Latitude  Longitude             EntryStreetName  \\\n",
       "0      0               1  33.75094  -84.39303  Peachtree Street Southwest   \n",
       "1      1               1  33.75094  -84.39303  Peachtree Street Southwest   \n",
       "\n",
       "               ExitStreetName EntryHeading ExitHeading  Hour  Weekend  Month  \\\n",
       "0   Mitchell Street Southwest           SW          SE     0        0      6   \n",
       "1  Peachtree Street Southwest           SW          SW     0        0      6   \n",
       "\n",
       "                                                Path     City  \n",
       "0  Peachtree Street Southwest_SW_Mitchell Street ...  Atlanta  \n",
       "1  Peachtree Street Southwest_SW_Peachtree Street...  Atlanta  "
      ]
     },
     "execution_count": 111,
     "metadata": {},
     "output_type": "execute_result"
    }
   ],
   "source": [
    "pd.set_option('display.max_columns', 50)\n",
    "\n",
    "#First 5 rows of dataframe:\n",
    "test.head(2)"
   ]
  },
  {
   "cell_type": "code",
   "execution_count": 112,
   "metadata": {},
   "outputs": [
    {
     "data": {
      "text/plain": [
       "((857409, 28), (1920335, 13))"
      ]
     },
     "execution_count": 112,
     "metadata": {},
     "output_type": "execute_result"
    }
   ],
   "source": [
    "#checking rows and clolumns:\n",
    "train.shape, test.shape"
   ]
  },
  {
   "cell_type": "code",
   "execution_count": 113,
   "metadata": {},
   "outputs": [
    {
     "data": {
      "text/plain": [
       "RowId                         0\n",
       "IntersectionId                0\n",
       "Latitude                      0\n",
       "Longitude                     0\n",
       "EntryStreetName            8189\n",
       "ExitStreetName             5534\n",
       "EntryHeading                  0\n",
       "ExitHeading                   0\n",
       "Hour                          0\n",
       "Weekend                       0\n",
       "Month                         0\n",
       "Path                          0\n",
       "TotalTimeStopped_p20          0\n",
       "TotalTimeStopped_p40          0\n",
       "TotalTimeStopped_p50          0\n",
       "TotalTimeStopped_p60          0\n",
       "TotalTimeStopped_p80          0\n",
       "TimeFromFirstStop_p20         0\n",
       "TimeFromFirstStop_p40         0\n",
       "TimeFromFirstStop_p50         0\n",
       "TimeFromFirstStop_p60         0\n",
       "TimeFromFirstStop_p80         0\n",
       "DistanceToFirstStop_p20       0\n",
       "DistanceToFirstStop_p40       0\n",
       "DistanceToFirstStop_p50       0\n",
       "DistanceToFirstStop_p60       0\n",
       "DistanceToFirstStop_p80       0\n",
       "City                          0\n",
       "dtype: int64"
      ]
     },
     "execution_count": 113,
     "metadata": {},
     "output_type": "execute_result"
    }
   ],
   "source": [
    "#checking missing or NaN values: training dataset\n",
    "train.isnull().sum()"
   ]
  },
  {
   "cell_type": "code",
   "execution_count": 114,
   "metadata": {},
   "outputs": [
    {
     "data": {
      "text/plain": [
       "RowId                  0\n",
       "IntersectionId         0\n",
       "Latitude               0\n",
       "Longitude              0\n",
       "EntryStreetName    19157\n",
       "ExitStreetName     16340\n",
       "EntryHeading           0\n",
       "ExitHeading            0\n",
       "Hour                   0\n",
       "Weekend                0\n",
       "Month                  0\n",
       "Path                   0\n",
       "City                   0\n",
       "dtype: int64"
      ]
     },
     "execution_count": 114,
     "metadata": {},
     "output_type": "execute_result"
    }
   ],
   "source": [
    "#checking missing or NaN values: test dataset\n",
    "test.isnull().sum()"
   ]
  },
  {
   "cell_type": "code",
   "execution_count": 115,
   "metadata": {},
   "outputs": [
    {
     "data": {
      "text/html": [
       "<div>\n",
       "<style scoped>\n",
       "    .dataframe tbody tr th:only-of-type {\n",
       "        vertical-align: middle;\n",
       "    }\n",
       "\n",
       "    .dataframe tbody tr th {\n",
       "        vertical-align: top;\n",
       "    }\n",
       "\n",
       "    .dataframe thead th {\n",
       "        text-align: right;\n",
       "    }\n",
       "</style>\n",
       "<table border=\"1\" class=\"dataframe\">\n",
       "  <thead>\n",
       "    <tr style=\"text-align: right;\">\n",
       "      <th></th>\n",
       "      <th>EntryStreetName</th>\n",
       "      <th>ExitStreetName</th>\n",
       "      <th>EntryHeading</th>\n",
       "      <th>ExitHeading</th>\n",
       "      <th>Path</th>\n",
       "      <th>City</th>\n",
       "    </tr>\n",
       "  </thead>\n",
       "  <tbody>\n",
       "    <tr>\n",
       "      <th>count</th>\n",
       "      <td>849220</td>\n",
       "      <td>851875</td>\n",
       "      <td>857409</td>\n",
       "      <td>857409</td>\n",
       "      <td>857409</td>\n",
       "      <td>857409</td>\n",
       "    </tr>\n",
       "    <tr>\n",
       "      <th>unique</th>\n",
       "      <td>1707</td>\n",
       "      <td>1693</td>\n",
       "      <td>8</td>\n",
       "      <td>8</td>\n",
       "      <td>15111</td>\n",
       "      <td>4</td>\n",
       "    </tr>\n",
       "    <tr>\n",
       "      <th>top</th>\n",
       "      <td>North Broad Street</td>\n",
       "      <td>North Broad Street</td>\n",
       "      <td>E</td>\n",
       "      <td>W</td>\n",
       "      <td>North Broad Street_N_North Broad Street_N</td>\n",
       "      <td>Philadelphia</td>\n",
       "    </tr>\n",
       "    <tr>\n",
       "      <th>freq</th>\n",
       "      <td>18938</td>\n",
       "      <td>19507</td>\n",
       "      <td>172814</td>\n",
       "      <td>173419</td>\n",
       "      <td>7032</td>\n",
       "      <td>388322</td>\n",
       "    </tr>\n",
       "  </tbody>\n",
       "</table>\n",
       "</div>"
      ],
      "text/plain": [
       "           EntryStreetName      ExitStreetName EntryHeading ExitHeading  \\\n",
       "count               849220              851875       857409      857409   \n",
       "unique                1707                1693            8           8   \n",
       "top     North Broad Street  North Broad Street            E           W   \n",
       "freq                 18938               19507       172814      173419   \n",
       "\n",
       "                                             Path          City  \n",
       "count                                      857409        857409  \n",
       "unique                                      15111             4  \n",
       "top     North Broad Street_N_North Broad Street_N  Philadelphia  \n",
       "freq                                         7032        388322  "
      ]
     },
     "execution_count": 115,
     "metadata": {},
     "output_type": "execute_result"
    }
   ],
   "source": [
    "train.describe(include=['object'])"
   ]
  },
  {
   "cell_type": "code",
   "execution_count": 116,
   "metadata": {},
   "outputs": [
    {
     "data": {
      "text/html": [
       "<div>\n",
       "<style scoped>\n",
       "    .dataframe tbody tr th:only-of-type {\n",
       "        vertical-align: middle;\n",
       "    }\n",
       "\n",
       "    .dataframe tbody tr th {\n",
       "        vertical-align: top;\n",
       "    }\n",
       "\n",
       "    .dataframe thead th {\n",
       "        text-align: right;\n",
       "    }\n",
       "</style>\n",
       "<table border=\"1\" class=\"dataframe\">\n",
       "  <thead>\n",
       "    <tr style=\"text-align: right;\">\n",
       "      <th></th>\n",
       "      <th>Latitude</th>\n",
       "      <th>Longitude</th>\n",
       "      <th>Hour</th>\n",
       "      <th>Weekend</th>\n",
       "      <th>Month</th>\n",
       "      <th>TotalTimeStopped_p20</th>\n",
       "      <th>TotalTimeStopped_p40</th>\n",
       "      <th>TotalTimeStopped_p50</th>\n",
       "      <th>TotalTimeStopped_p60</th>\n",
       "      <th>TotalTimeStopped_p80</th>\n",
       "      <th>TimeFromFirstStop_p20</th>\n",
       "      <th>TimeFromFirstStop_p40</th>\n",
       "      <th>TimeFromFirstStop_p50</th>\n",
       "      <th>TimeFromFirstStop_p60</th>\n",
       "      <th>TimeFromFirstStop_p80</th>\n",
       "      <th>DistanceToFirstStop_p20</th>\n",
       "      <th>DistanceToFirstStop_p40</th>\n",
       "      <th>DistanceToFirstStop_p50</th>\n",
       "      <th>DistanceToFirstStop_p60</th>\n",
       "      <th>DistanceToFirstStop_p80</th>\n",
       "    </tr>\n",
       "  </thead>\n",
       "  <tbody>\n",
       "    <tr>\n",
       "      <th>count</th>\n",
       "      <td>857409.000000</td>\n",
       "      <td>857409.000000</td>\n",
       "      <td>857409.000000</td>\n",
       "      <td>857409.000000</td>\n",
       "      <td>857409.000000</td>\n",
       "      <td>857409.000000</td>\n",
       "      <td>857409.000000</td>\n",
       "      <td>857409.000000</td>\n",
       "      <td>857409.000000</td>\n",
       "      <td>857409.000000</td>\n",
       "      <td>857409.000000</td>\n",
       "      <td>857409.000000</td>\n",
       "      <td>857409.000000</td>\n",
       "      <td>857409.000000</td>\n",
       "      <td>857409.000000</td>\n",
       "      <td>857409.000000</td>\n",
       "      <td>857409.000000</td>\n",
       "      <td>857409.000000</td>\n",
       "      <td>857409.000000</td>\n",
       "      <td>857409.000000</td>\n",
       "    </tr>\n",
       "    <tr>\n",
       "      <th>mean</th>\n",
       "      <td>39.657555</td>\n",
       "      <td>-77.900396</td>\n",
       "      <td>12.427463</td>\n",
       "      <td>0.277485</td>\n",
       "      <td>9.104448</td>\n",
       "      <td>1.731272</td>\n",
       "      <td>5.356027</td>\n",
       "      <td>7.681874</td>\n",
       "      <td>11.905296</td>\n",
       "      <td>22.948071</td>\n",
       "      <td>3.126932</td>\n",
       "      <td>9.051338</td>\n",
       "      <td>12.613628</td>\n",
       "      <td>18.801785</td>\n",
       "      <td>34.037097</td>\n",
       "      <td>6.564450</td>\n",
       "      <td>19.872987</td>\n",
       "      <td>28.255852</td>\n",
       "      <td>43.273503</td>\n",
       "      <td>81.922639</td>\n",
       "    </tr>\n",
       "    <tr>\n",
       "      <th>std</th>\n",
       "      <td>2.920760</td>\n",
       "      <td>5.975814</td>\n",
       "      <td>6.062097</td>\n",
       "      <td>0.447758</td>\n",
       "      <td>1.993233</td>\n",
       "      <td>7.080017</td>\n",
       "      <td>12.861420</td>\n",
       "      <td>15.553418</td>\n",
       "      <td>19.631821</td>\n",
       "      <td>28.118134</td>\n",
       "      <td>11.631092</td>\n",
       "      <td>20.120829</td>\n",
       "      <td>23.847749</td>\n",
       "      <td>29.399634</td>\n",
       "      <td>40.619387</td>\n",
       "      <td>28.003261</td>\n",
       "      <td>56.564229</td>\n",
       "      <td>71.720090</td>\n",
       "      <td>96.933561</td>\n",
       "      <td>152.682760</td>\n",
       "    </tr>\n",
       "    <tr>\n",
       "      <th>min</th>\n",
       "      <td>33.649970</td>\n",
       "      <td>-87.836750</td>\n",
       "      <td>0.000000</td>\n",
       "      <td>0.000000</td>\n",
       "      <td>1.000000</td>\n",
       "      <td>0.000000</td>\n",
       "      <td>0.000000</td>\n",
       "      <td>0.000000</td>\n",
       "      <td>0.000000</td>\n",
       "      <td>0.000000</td>\n",
       "      <td>0.000000</td>\n",
       "      <td>0.000000</td>\n",
       "      <td>0.000000</td>\n",
       "      <td>0.000000</td>\n",
       "      <td>0.000000</td>\n",
       "      <td>0.000000</td>\n",
       "      <td>0.000000</td>\n",
       "      <td>0.000000</td>\n",
       "      <td>0.000000</td>\n",
       "      <td>0.000000</td>\n",
       "    </tr>\n",
       "    <tr>\n",
       "      <th>25%</th>\n",
       "      <td>39.937600</td>\n",
       "      <td>-84.387710</td>\n",
       "      <td>8.000000</td>\n",
       "      <td>0.000000</td>\n",
       "      <td>7.000000</td>\n",
       "      <td>0.000000</td>\n",
       "      <td>0.000000</td>\n",
       "      <td>0.000000</td>\n",
       "      <td>0.000000</td>\n",
       "      <td>0.000000</td>\n",
       "      <td>0.000000</td>\n",
       "      <td>0.000000</td>\n",
       "      <td>0.000000</td>\n",
       "      <td>0.000000</td>\n",
       "      <td>0.000000</td>\n",
       "      <td>0.000000</td>\n",
       "      <td>0.000000</td>\n",
       "      <td>0.000000</td>\n",
       "      <td>0.000000</td>\n",
       "      <td>0.000000</td>\n",
       "    </tr>\n",
       "    <tr>\n",
       "      <th>50%</th>\n",
       "      <td>39.985810</td>\n",
       "      <td>-75.173270</td>\n",
       "      <td>13.000000</td>\n",
       "      <td>0.000000</td>\n",
       "      <td>9.000000</td>\n",
       "      <td>0.000000</td>\n",
       "      <td>0.000000</td>\n",
       "      <td>0.000000</td>\n",
       "      <td>0.000000</td>\n",
       "      <td>16.000000</td>\n",
       "      <td>0.000000</td>\n",
       "      <td>0.000000</td>\n",
       "      <td>0.000000</td>\n",
       "      <td>0.000000</td>\n",
       "      <td>27.000000</td>\n",
       "      <td>0.000000</td>\n",
       "      <td>0.000000</td>\n",
       "      <td>0.000000</td>\n",
       "      <td>0.000000</td>\n",
       "      <td>60.400000</td>\n",
       "    </tr>\n",
       "    <tr>\n",
       "      <th>75%</th>\n",
       "      <td>41.918580</td>\n",
       "      <td>-75.080190</td>\n",
       "      <td>17.000000</td>\n",
       "      <td>1.000000</td>\n",
       "      <td>11.000000</td>\n",
       "      <td>0.000000</td>\n",
       "      <td>0.000000</td>\n",
       "      <td>10.000000</td>\n",
       "      <td>19.000000</td>\n",
       "      <td>35.000000</td>\n",
       "      <td>0.000000</td>\n",
       "      <td>0.000000</td>\n",
       "      <td>22.000000</td>\n",
       "      <td>31.000000</td>\n",
       "      <td>49.000000</td>\n",
       "      <td>0.000000</td>\n",
       "      <td>0.000000</td>\n",
       "      <td>52.900000</td>\n",
       "      <td>64.100000</td>\n",
       "      <td>85.600000</td>\n",
       "    </tr>\n",
       "    <tr>\n",
       "      <th>max</th>\n",
       "      <td>42.381780</td>\n",
       "      <td>-71.023520</td>\n",
       "      <td>23.000000</td>\n",
       "      <td>1.000000</td>\n",
       "      <td>12.000000</td>\n",
       "      <td>273.000000</td>\n",
       "      <td>318.000000</td>\n",
       "      <td>343.000000</td>\n",
       "      <td>368.000000</td>\n",
       "      <td>689.000000</td>\n",
       "      <td>334.000000</td>\n",
       "      <td>347.000000</td>\n",
       "      <td>355.000000</td>\n",
       "      <td>358.000000</td>\n",
       "      <td>359.000000</td>\n",
       "      <td>1902.700000</td>\n",
       "      <td>3099.500000</td>\n",
       "      <td>3099.500000</td>\n",
       "      <td>3581.600000</td>\n",
       "      <td>4064.300000</td>\n",
       "    </tr>\n",
       "  </tbody>\n",
       "</table>\n",
       "</div>"
      ],
      "text/plain": [
       "            Latitude      Longitude           Hour        Weekend  \\\n",
       "count  857409.000000  857409.000000  857409.000000  857409.000000   \n",
       "mean       39.657555     -77.900396      12.427463       0.277485   \n",
       "std         2.920760       5.975814       6.062097       0.447758   \n",
       "min        33.649970     -87.836750       0.000000       0.000000   \n",
       "25%        39.937600     -84.387710       8.000000       0.000000   \n",
       "50%        39.985810     -75.173270      13.000000       0.000000   \n",
       "75%        41.918580     -75.080190      17.000000       1.000000   \n",
       "max        42.381780     -71.023520      23.000000       1.000000   \n",
       "\n",
       "               Month  TotalTimeStopped_p20  TotalTimeStopped_p40  \\\n",
       "count  857409.000000         857409.000000         857409.000000   \n",
       "mean        9.104448              1.731272              5.356027   \n",
       "std         1.993233              7.080017             12.861420   \n",
       "min         1.000000              0.000000              0.000000   \n",
       "25%         7.000000              0.000000              0.000000   \n",
       "50%         9.000000              0.000000              0.000000   \n",
       "75%        11.000000              0.000000              0.000000   \n",
       "max        12.000000            273.000000            318.000000   \n",
       "\n",
       "       TotalTimeStopped_p50  TotalTimeStopped_p60  TotalTimeStopped_p80  \\\n",
       "count         857409.000000         857409.000000         857409.000000   \n",
       "mean               7.681874             11.905296             22.948071   \n",
       "std               15.553418             19.631821             28.118134   \n",
       "min                0.000000              0.000000              0.000000   \n",
       "25%                0.000000              0.000000              0.000000   \n",
       "50%                0.000000              0.000000             16.000000   \n",
       "75%               10.000000             19.000000             35.000000   \n",
       "max              343.000000            368.000000            689.000000   \n",
       "\n",
       "       TimeFromFirstStop_p20  TimeFromFirstStop_p40  TimeFromFirstStop_p50  \\\n",
       "count          857409.000000          857409.000000          857409.000000   \n",
       "mean                3.126932               9.051338              12.613628   \n",
       "std                11.631092              20.120829              23.847749   \n",
       "min                 0.000000               0.000000               0.000000   \n",
       "25%                 0.000000               0.000000               0.000000   \n",
       "50%                 0.000000               0.000000               0.000000   \n",
       "75%                 0.000000               0.000000              22.000000   \n",
       "max               334.000000             347.000000             355.000000   \n",
       "\n",
       "       TimeFromFirstStop_p60  TimeFromFirstStop_p80  DistanceToFirstStop_p20  \\\n",
       "count          857409.000000          857409.000000            857409.000000   \n",
       "mean               18.801785              34.037097                 6.564450   \n",
       "std                29.399634              40.619387                28.003261   \n",
       "min                 0.000000               0.000000                 0.000000   \n",
       "25%                 0.000000               0.000000                 0.000000   \n",
       "50%                 0.000000              27.000000                 0.000000   \n",
       "75%                31.000000              49.000000                 0.000000   \n",
       "max               358.000000             359.000000              1902.700000   \n",
       "\n",
       "       DistanceToFirstStop_p40  DistanceToFirstStop_p50  \\\n",
       "count            857409.000000            857409.000000   \n",
       "mean                 19.872987                28.255852   \n",
       "std                  56.564229                71.720090   \n",
       "min                   0.000000                 0.000000   \n",
       "25%                   0.000000                 0.000000   \n",
       "50%                   0.000000                 0.000000   \n",
       "75%                   0.000000                52.900000   \n",
       "max                3099.500000              3099.500000   \n",
       "\n",
       "       DistanceToFirstStop_p60  DistanceToFirstStop_p80  \n",
       "count            857409.000000            857409.000000  \n",
       "mean                 43.273503                81.922639  \n",
       "std                  96.933561               152.682760  \n",
       "min                   0.000000                 0.000000  \n",
       "25%                   0.000000                 0.000000  \n",
       "50%                   0.000000                60.400000  \n",
       "75%                  64.100000                85.600000  \n",
       "max                3581.600000              4064.300000  "
      ]
     },
     "execution_count": 116,
     "metadata": {},
     "output_type": "execute_result"
    }
   ],
   "source": [
    "#describing numerical - excluding rowID and intersectionID\n",
    "train.iloc[:, 2:].describe()"
   ]
  },
  {
   "cell_type": "code",
   "execution_count": 117,
   "metadata": {},
   "outputs": [],
   "source": [
    "#dropping all NaN values: from training and test dataset\n",
    "train.dropna(inplace=True)\n",
    "test.dropna(inplace=True)"
   ]
  },
  {
   "cell_type": "code",
   "execution_count": 118,
   "metadata": {},
   "outputs": [
    {
     "data": {
      "text/plain": [
       "((844259, 28), (1886327, 13))"
      ]
     },
     "execution_count": 118,
     "metadata": {},
     "output_type": "execute_result"
    }
   ],
   "source": [
    "#checking shape: training and test dataset\n",
    "train.shape, test.shape"
   ]
  },
  {
   "cell_type": "code",
   "execution_count": 119,
   "metadata": {},
   "outputs": [
    {
     "name": "stdout",
     "output_type": "stream",
     "text": [
      "<class 'pandas.core.frame.DataFrame'>\n",
      "Int64Index: 844259 entries, 0 to 857408\n",
      "Data columns (total 28 columns):\n",
      "RowId                      844259 non-null int64\n",
      "IntersectionId             844259 non-null int64\n",
      "Latitude                   844259 non-null float64\n",
      "Longitude                  844259 non-null float64\n",
      "EntryStreetName            844259 non-null object\n",
      "ExitStreetName             844259 non-null object\n",
      "EntryHeading               844259 non-null object\n",
      "ExitHeading                844259 non-null object\n",
      "Hour                       844259 non-null int64\n",
      "Weekend                    844259 non-null int64\n",
      "Month                      844259 non-null int64\n",
      "Path                       844259 non-null object\n",
      "TotalTimeStopped_p20       844259 non-null int64\n",
      "TotalTimeStopped_p40       844259 non-null int64\n",
      "TotalTimeStopped_p50       844259 non-null int64\n",
      "TotalTimeStopped_p60       844259 non-null int64\n",
      "TotalTimeStopped_p80       844259 non-null int64\n",
      "TimeFromFirstStop_p20      844259 non-null int64\n",
      "TimeFromFirstStop_p40      844259 non-null int64\n",
      "TimeFromFirstStop_p50      844259 non-null int64\n",
      "TimeFromFirstStop_p60      844259 non-null int64\n",
      "TimeFromFirstStop_p80      844259 non-null int64\n",
      "DistanceToFirstStop_p20    844259 non-null float64\n",
      "DistanceToFirstStop_p40    844259 non-null float64\n",
      "DistanceToFirstStop_p50    844259 non-null float64\n",
      "DistanceToFirstStop_p60    844259 non-null float64\n",
      "DistanceToFirstStop_p80    844259 non-null float64\n",
      "City                       844259 non-null object\n",
      "dtypes: float64(7), int64(15), object(6)\n",
      "memory usage: 186.8+ MB\n"
     ]
    }
   ],
   "source": [
    "#checking dtypes memory usage: training dataset\n",
    "train.info()"
   ]
  },
  {
   "cell_type": "code",
   "execution_count": 120,
   "metadata": {},
   "outputs": [
    {
     "name": "stdout",
     "output_type": "stream",
     "text": [
      "<class 'pandas.core.frame.DataFrame'>\n",
      "Int64Index: 1886327 entries, 0 to 1920334\n",
      "Data columns (total 13 columns):\n",
      "RowId              int64\n",
      "IntersectionId     int64\n",
      "Latitude           float64\n",
      "Longitude          float64\n",
      "EntryStreetName    object\n",
      "ExitStreetName     object\n",
      "EntryHeading       object\n",
      "ExitHeading        object\n",
      "Hour               int64\n",
      "Weekend            int64\n",
      "Month              int64\n",
      "Path               object\n",
      "City               object\n",
      "dtypes: float64(2), int64(5), object(6)\n",
      "memory usage: 201.5+ MB\n"
     ]
    }
   ],
   "source": [
    "#checking dtypes memory usage: testing dataset\n",
    "test.info()"
   ]
  },
  {
   "cell_type": "code",
   "execution_count": 121,
   "metadata": {},
   "outputs": [],
   "source": [
    "#using available function to reduce memory consumption:\n",
    "\n",
    "'''Function to reduce the DF size'''\n",
    "# source: https://www.kaggle.com/kernels/scriptcontent/3684066/download\n",
    "\n",
    "def reduce_mem_usage(df):\n",
    "    \"\"\" iterate through all the columns of a dataframe and modify the data type\n",
    "        to reduce memory usage.        \n",
    "    \"\"\"\n",
    "    start_mem = df.memory_usage().sum() / 1024**2\n",
    "    print('Memory usage of dataframe is {:.2f} MB'.format(start_mem))\n",
    "    \n",
    "    for col in df.columns:\n",
    "        col_type = df[col].dtype\n",
    "        \n",
    "        if col_type != object:\n",
    "            c_min = df[col].min()\n",
    "            c_max = df[col].max()\n",
    "            if str(col_type)[:3] == 'int':\n",
    "                if c_min > np.iinfo(np.int8).min and c_max < np.iinfo(np.int8).max:\n",
    "                    df[col] = df[col].astype(np.int8)\n",
    "                elif c_min > np.iinfo(np.int16).min and c_max < np.iinfo(np.int16).max:\n",
    "                    df[col] = df[col].astype(np.int16)\n",
    "                elif c_min > np.iinfo(np.int32).min and c_max < np.iinfo(np.int32).max:\n",
    "                    df[col] = df[col].astype(np.int32)\n",
    "                elif c_min > np.iinfo(np.int64).min and c_max < np.iinfo(np.int64).max:\n",
    "                    df[col] = df[col].astype(np.int64)  \n",
    "            else:\n",
    "                if c_min > np.finfo(np.float16).min and c_max < np.finfo(np.float16).max:\n",
    "                    df[col] = df[col].astype(np.float16)\n",
    "                elif c_min > np.finfo(np.float32).min and c_max < np.finfo(np.float32).max:\n",
    "                    df[col] = df[col].astype(np.float32)\n",
    "                else:\n",
    "                    df[col] = df[col].astype(np.float64)\n",
    "        else:\n",
    "            df[col] = df[col].astype('category')\n",
    "\n",
    "    end_mem = df.memory_usage().sum() / 1024**2\n",
    "    print('Memory usage after optimization is: {:.2f} MB'.format(end_mem))\n",
    "    print('Decreased by {:.1f}%'.format(100 * (start_mem - end_mem) / start_mem))\n",
    "    \n",
    "    return df"
   ]
  },
  {
   "cell_type": "code",
   "execution_count": 122,
   "metadata": {},
   "outputs": [
    {
     "name": "stdout",
     "output_type": "stream",
     "text": [
      "Memory usage of dataframe is 186.79 MB\n",
      "Memory usage after optimization is: 49.23 MB\n",
      "Decreased by 73.6%\n"
     ]
    }
   ],
   "source": [
    "#function call : training data\n",
    "train = reduce_mem_usage(train)"
   ]
  },
  {
   "cell_type": "code",
   "execution_count": 123,
   "metadata": {},
   "outputs": [
    {
     "name": "stdout",
     "output_type": "stream",
     "text": [
      "Memory usage of dataframe is 201.48 MB\n",
      "Memory usage after optimization is: 54.93 MB\n",
      "Decreased by 72.7%\n"
     ]
    }
   ],
   "source": [
    "#function call : testing data\n",
    "test = reduce_mem_usage(test)"
   ]
  },
  {
   "cell_type": "markdown",
   "metadata": {},
   "source": [
    "* very few missing values in dataset only in - 'EntryStreetName' and 'ExitStreetName'\n",
    "* found these categorical columns - 'EntryStreetName','ExitStreetName','EntryHeading','ExitHeading','Path','City'\n",
    "* fload-64 dtypes are killer here! had to reduce the memory by using function call. Else we face out-of-memory error frequently during our analysis. Since both train and test are having huge data points."
   ]
  },
  {
   "cell_type": "markdown",
   "metadata": {},
   "source": [
    "# EDA: Statistical and Visualization"
   ]
  },
  {
   "cell_type": "code",
   "execution_count": 124,
   "metadata": {},
   "outputs": [
    {
     "data": {
      "text/plain": [
       "<matplotlib.axes._subplots.AxesSubplot at 0x1a880bab4a8>"
      ]
     },
     "execution_count": 124,
     "metadata": {},
     "output_type": "execute_result"
    },
    {
     "data": {
      "image/png": "[encoded data removed]",
      "text/plain": [
       "<Figure size 1152x864 with 2 Axes>"
      ]
     },
     "metadata": {
      "needs_background": "light"
     },
     "output_type": "display_data"
    }
   ],
   "source": [
    "plt.subplots(figsize=(16,12))\n",
    "sns.heatmap(train.iloc[:, 1:].corr())"
   ]
  },
  {
   "cell_type": "markdown",
   "metadata": {},
   "source": [
    "Here we see that 'TimeToFirstStop' which is optional column in train data set has correlation with 'totalTimeStoped_20/40/50/80' targets!"
   ]
  },
  {
   "cell_type": "code",
   "execution_count": 17,
   "metadata": {},
   "outputs": [
    {
     "data": {
      "image/png": "[encoded data removed]",
      "text/plain": [
       "<Figure size 1080x432 with 1 Axes>"
      ]
     },
     "metadata": {
      "needs_background": "light"
     },
     "output_type": "display_data"
    }
   ],
   "source": [
    "plt.style.use('bmh')\n",
    "plt.figure(figsize=(15,6))\n",
    "sns.countplot(x=\"City\", data=train)\n",
    "plt.title(\"City Data Points\")\n",
    "plt.ylabel(\"Data Points\")\n",
    "plt.xlabel(\"City\")\n",
    "plt.tight_layout()"
   ]
  },
  {
   "cell_type": "markdown",
   "metadata": {},
   "source": [
    "   * There are 4 unique city in the dataset\n",
    "   * Philadelphia is having highest data points in the training dataset, and then Boston"
   ]
  },
  {
   "cell_type": "code",
   "execution_count": 18,
   "metadata": {},
   "outputs": [
    {
     "data": {
      "image/png": "[encoded data removed]",
      "text/plain": [
       "<Figure size 1080x432 with 1 Axes>"
      ]
     },
     "metadata": {
      "needs_background": "light"
     },
     "output_type": "display_data"
    }
   ],
   "source": [
    "train['TotalTimeStopped'] = train['TotalTimeStopped_p20']+train['TotalTimeStopped_p40']\\\n",
    "                            +train['TotalTimeStopped_p50']+train['TotalTimeStopped_p60']\\\n",
    "                            +train['TotalTimeStopped_p80']\n",
    "\n",
    "plt.style.use('bmh')\n",
    "plt.figure(figsize=(15,6))\n",
    "train.groupby('City')['TotalTimeStopped'].mean().plot(kind='bar', colors=['#D98880','#AF7AC5','#7FB3D5','#A2D9CE'])\n",
    "plt.title(\"Traiffic Jams In Cities\")\n",
    "plt.ylabel(\"Total Time Stopped(in Hrs.)\")\n",
    "plt.xlabel(\"City Name\")\n",
    "plt.tight_layout()"
   ]
  },
  {
   "cell_type": "markdown",
   "metadata": {},
   "source": [
    "Atlanta and Boston looks higher traffic jams than other cities!"
   ]
  },
  {
   "cell_type": "code",
   "execution_count": 19,
   "metadata": {},
   "outputs": [
    {
     "data": {
      "image/png": "[encoded data removed]",
      "text/plain": [
       "<Figure size 1080x432 with 1 Axes>"
      ]
     },
     "metadata": {
      "needs_background": "light"
     },
     "output_type": "display_data"
    }
   ],
   "source": [
    "plt.style.use('bmh')\n",
    "plt.figure(figsize=(15,6))\n",
    "sns.countplot(x=\"Hour\", data=train, hue='City')\n",
    "plt.title(\"Hour Frequecy Of Cities For The Day\")\n",
    "plt.ylabel(\"Frequency\")\n",
    "plt.xlabel(\"Hours\")\n",
    "plt.tight_layout()"
   ]
  },
  {
   "cell_type": "markdown",
   "metadata": {},
   "source": [
    "Philadelphia shows higher hour counts in dataset for hourly distribution."
   ]
  },
  {
   "cell_type": "code",
   "execution_count": 125,
   "metadata": {},
   "outputs": [
    {
     "data": {
      "image/png": "[encoded data removed]",
      "text/plain": [
       "<Figure size 1008x360 with 1 Axes>"
      ]
     },
     "metadata": {
      "needs_background": "light"
     },
     "output_type": "display_data"
    }
   ],
   "source": [
    "#months-wise data:\n",
    "plt.style.use('bmh')\n",
    "plt.subplots(figsize=(14, 5))\n",
    "sns.countplot(y= 'Month', hue = 'City',data = train, hue_order=['Philadelphia','Boston','Atlanta', 'Chicago'])\n",
    "plt.title(\"Month-Wise Counts\")\n",
    "plt.ylabel(\"Months\")\n",
    "plt.xlabel(\"Counts\")\n",
    "plt.tight_layout()"
   ]
  },
  {
   "cell_type": "markdown",
   "metadata": {},
   "source": [
    "* Months - february, March, April are not hahving any data points here. \n",
    "* Months - January and May are very low data points "
   ]
  },
  {
   "cell_type": "code",
   "execution_count": 20,
   "metadata": {},
   "outputs": [
    {
     "data": {
      "image/png": "[encoded data removed]",
      "text/plain": [
       "<Figure size 1296x720 with 4 Axes>"
      ]
     },
     "metadata": {
      "needs_background": "light"
     },
     "output_type": "display_data"
    }
   ],
   "source": [
    "Atlanta = train[train['City']=='Atlanta']\n",
    "Boston = train[train['City']=='Boston']\n",
    "Chicago = train[train['City']=='Chicago']\n",
    "Philadelphia = train[train['City']=='Philadelphia']\n",
    "\n",
    "\n",
    "plt.style.use('bmh')\n",
    "fig, axes = plt.subplots(nrows=2, ncols=2)\n",
    "\n",
    "Atlanta_Weekend = Atlanta[Atlanta['Weekend'] == 1].groupby(['Hour'])['TotalTimeStopped'].mean()\n",
    "Atlanta_Weekday = Atlanta[Atlanta['Weekend'] == 0].groupby(['Hour'])['TotalTimeStopped'].mean()\n",
    "Atlanta_Weekend.plot(ax=axes[0,0],figsize=(18,10),title='Atlanta Weekend Vs Weekday - Traific Jam', label='Weekends')\n",
    "Atlanta_Weekday.plot(ax=axes[0,0],figsize=(18,10), label='Weekdays')\n",
    "\n",
    "Boston_Weekend = Boston[Boston['Weekend'] == 1].groupby(['Hour'])['TotalTimeStopped'].mean()\n",
    "Boston_Weekday = Boston[Boston['Weekend'] == 0].groupby(['Hour'])['TotalTimeStopped'].mean()\n",
    "Boston_Weekend.plot(ax=axes[0,1],figsize=(18,10),title='Boston Weekend Vs Weekday - Traific Jam', label='Weekends')\n",
    "Boston_Weekday.plot(ax=axes[0,1],figsize=(18,10), label='Weekdays')\n",
    "\n",
    "Chicago_Weekend = Chicago[Chicago['Weekend'] == 1].groupby(['Hour'])['TotalTimeStopped'].mean()\n",
    "Chicago_Weekday = Chicago[Chicago['Weekend'] == 0].groupby(['Hour'])['TotalTimeStopped'].mean()\n",
    "Chicago_Weekend.plot(ax=axes[1,0],figsize=(18,10),title='Chicago Weekend Vs Weekday - Traific Jam', label='Weekends')\n",
    "Chicago_Weekday.plot(ax=axes[1,0],figsize=(18,10), label='Weekdays')\n",
    "\n",
    "Philadelphia_Weekend = Philadelphia[Philadelphia['Weekend'] == 1].groupby(['Hour'])['TotalTimeStopped'].mean()\n",
    "Philadelphia_Weekday = Philadelphia[Philadelphia['Weekend'] == 0].groupby(['Hour'])['TotalTimeStopped'].mean()\n",
    "Philadelphia_Weekend.plot(ax=axes[1,1],figsize=(18,10),title='Philadelphia Weekend Vs Weekday - Traific Jam', label='Weekends')\n",
    "Philadelphia_Weekday.plot(ax=axes[1,1],figsize=(18,10), label='Weekdays')\n",
    "\n",
    "fig.legend(labels=['Weekends','Weekdays'])\n",
    "fig.tight_layout()"
   ]
  },
  {
   "cell_type": "markdown",
   "metadata": {},
   "source": [
    "* Weekdays is higher traffic days in all cities\n",
    "* Atlanta and Boston hahing higher stop time than other countries"
   ]
  },
  {
   "cell_type": "code",
   "execution_count": 128,
   "metadata": {},
   "outputs": [
    {
     "data": {
      "image/png": "[encoded data removed]",
      "text/plain": [
       "<Figure size 1008x360 with 1 Axes>"
      ]
     },
     "metadata": {
      "needs_background": "light"
     },
     "output_type": "display_data"
    }
   ],
   "source": [
    "plt.style.use('bmh')\n",
    "plt.subplots(figsize=(14, 5))\n",
    "train.groupby(['City']).IntersectionId.nunique().sort_index().plot(kind='bar', \n",
    "                                                                   colors=['#D98880','#AF7AC5','#7FB3D5','#A2D9CE'])\n",
    "plt.title(\"Number Of Intersections In The Cities\")\n",
    "plt.ylabel(\"Total Counts\")\n",
    "plt.xlabel(\"City Name\")\n",
    "plt.tight_layout()"
   ]
  },
  {
   "cell_type": "markdown",
   "metadata": {},
   "source": [
    "* Looks city 'Chicago' has highest number of intersections and then 'Philadelphia'"
   ]
  },
  {
   "cell_type": "code",
   "execution_count": 170,
   "metadata": {},
   "outputs": [
    {
     "data": {
      "image/png": "[encoded data removed]",
      "text/plain": [
       "<Figure size 1440x576 with 1 Axes>"
      ]
     },
     "metadata": {},
     "output_type": "display_data"
    }
   ],
   "source": [
    "plt.style.use('ggplot')\n",
    "plt.subplots(figsize=(20, 8))\n",
    "sns.distplot(train['TotalTimeStopped_p80'], bins=10)\n",
    "sns.distplot(train['DistanceToFirstStop_p80'], bins=10)\n",
    "sns.distplot(train['TimeFromFirstStop_p80'], bins=10)\n",
    "\n",
    "plt.title(\"80th Percentile of TotalTimeStopped, DistanceToStop and TimeFirstStop\")\n",
    "plt.ylabel(\"Counts\")\n",
    "plt.xlabel(\"Distribution\")\n",
    "plt.tight_layout()"
   ]
  },
  {
   "cell_type": "markdown",
   "metadata": {},
   "source": [
    "* Here we could see that all data are skewed to zero, Maybe few vehicles are moving without stopping."
   ]
  },
  {
   "cell_type": "markdown",
   "metadata": {},
   "source": [
    "# Feature Engineering:"
   ]
  },
  {
   "cell_type": "code",
   "execution_count": 21,
   "metadata": {},
   "outputs": [
    {
     "data": {
      "text/html": [
       "<div>\n",
       "<style scoped>\n",
       "    .dataframe tbody tr th:only-of-type {\n",
       "        vertical-align: middle;\n",
       "    }\n",
       "\n",
       "    .dataframe tbody tr th {\n",
       "        vertical-align: top;\n",
       "    }\n",
       "\n",
       "    .dataframe thead th {\n",
       "        text-align: right;\n",
       "    }\n",
       "</style>\n",
       "<table border=\"1\" class=\"dataframe\">\n",
       "  <thead>\n",
       "    <tr style=\"text-align: right;\">\n",
       "      <th></th>\n",
       "      <th>RowId</th>\n",
       "      <th>IntersectionId</th>\n",
       "      <th>Latitude</th>\n",
       "      <th>Longitude</th>\n",
       "      <th>EntryStreetName</th>\n",
       "      <th>ExitStreetName</th>\n",
       "      <th>EntryHeading</th>\n",
       "      <th>ExitHeading</th>\n",
       "      <th>Hour</th>\n",
       "      <th>Weekend</th>\n",
       "      <th>Month</th>\n",
       "      <th>Path</th>\n",
       "      <th>TotalTimeStopped_p20</th>\n",
       "      <th>TotalTimeStopped_p40</th>\n",
       "      <th>TotalTimeStopped_p50</th>\n",
       "      <th>TotalTimeStopped_p60</th>\n",
       "      <th>TotalTimeStopped_p80</th>\n",
       "      <th>TimeFromFirstStop_p20</th>\n",
       "      <th>TimeFromFirstStop_p40</th>\n",
       "      <th>TimeFromFirstStop_p50</th>\n",
       "      <th>TimeFromFirstStop_p60</th>\n",
       "      <th>TimeFromFirstStop_p80</th>\n",
       "      <th>DistanceToFirstStop_p20</th>\n",
       "      <th>DistanceToFirstStop_p40</th>\n",
       "      <th>DistanceToFirstStop_p50</th>\n",
       "      <th>DistanceToFirstStop_p60</th>\n",
       "      <th>DistanceToFirstStop_p80</th>\n",
       "      <th>City</th>\n",
       "      <th>TotalTimeStopped</th>\n",
       "    </tr>\n",
       "  </thead>\n",
       "  <tbody>\n",
       "    <tr>\n",
       "      <th>0</th>\n",
       "      <td>1920335</td>\n",
       "      <td>0</td>\n",
       "      <td>33.78125</td>\n",
       "      <td>-84.4375</td>\n",
       "      <td>Marietta Boulevard Northwest</td>\n",
       "      <td>Marietta Boulevard Northwest</td>\n",
       "      <td>NW</td>\n",
       "      <td>NW</td>\n",
       "      <td>0</td>\n",
       "      <td>0</td>\n",
       "      <td>6</td>\n",
       "      <td>Marietta Boulevard Northwest_NW_Marietta Boule...</td>\n",
       "      <td>0</td>\n",
       "      <td>0</td>\n",
       "      <td>0</td>\n",
       "      <td>0</td>\n",
       "      <td>0</td>\n",
       "      <td>0</td>\n",
       "      <td>0</td>\n",
       "      <td>0</td>\n",
       "      <td>0</td>\n",
       "      <td>0</td>\n",
       "      <td>0.0</td>\n",
       "      <td>0.0</td>\n",
       "      <td>0.0</td>\n",
       "      <td>0.0</td>\n",
       "      <td>0.0</td>\n",
       "      <td>Atlanta</td>\n",
       "      <td>0</td>\n",
       "    </tr>\n",
       "    <tr>\n",
       "      <th>1</th>\n",
       "      <td>1920336</td>\n",
       "      <td>0</td>\n",
       "      <td>33.78125</td>\n",
       "      <td>-84.4375</td>\n",
       "      <td>Marietta Boulevard Northwest</td>\n",
       "      <td>Marietta Boulevard Northwest</td>\n",
       "      <td>SE</td>\n",
       "      <td>SE</td>\n",
       "      <td>0</td>\n",
       "      <td>0</td>\n",
       "      <td>6</td>\n",
       "      <td>Marietta Boulevard Northwest_SE_Marietta Boule...</td>\n",
       "      <td>0</td>\n",
       "      <td>0</td>\n",
       "      <td>0</td>\n",
       "      <td>0</td>\n",
       "      <td>0</td>\n",
       "      <td>0</td>\n",
       "      <td>0</td>\n",
       "      <td>0</td>\n",
       "      <td>0</td>\n",
       "      <td>0</td>\n",
       "      <td>0.0</td>\n",
       "      <td>0.0</td>\n",
       "      <td>0.0</td>\n",
       "      <td>0.0</td>\n",
       "      <td>0.0</td>\n",
       "      <td>Atlanta</td>\n",
       "      <td>0</td>\n",
       "    </tr>\n",
       "  </tbody>\n",
       "</table>\n",
       "</div>"
      ],
      "text/plain": [
       "     RowId  IntersectionId  Latitude  Longitude               EntryStreetName  \\\n",
       "0  1920335               0  33.78125   -84.4375  Marietta Boulevard Northwest   \n",
       "1  1920336               0  33.78125   -84.4375  Marietta Boulevard Northwest   \n",
       "\n",
       "                 ExitStreetName EntryHeading ExitHeading  Hour  Weekend  \\\n",
       "0  Marietta Boulevard Northwest           NW          NW     0        0   \n",
       "1  Marietta Boulevard Northwest           SE          SE     0        0   \n",
       "\n",
       "   Month                                               Path  \\\n",
       "0      6  Marietta Boulevard Northwest_NW_Marietta Boule...   \n",
       "1      6  Marietta Boulevard Northwest_SE_Marietta Boule...   \n",
       "\n",
       "   TotalTimeStopped_p20  TotalTimeStopped_p40  TotalTimeStopped_p50  \\\n",
       "0                     0                     0                     0   \n",
       "1                     0                     0                     0   \n",
       "\n",
       "   TotalTimeStopped_p60  TotalTimeStopped_p80  TimeFromFirstStop_p20  \\\n",
       "0                     0                     0                      0   \n",
       "1                     0                     0                      0   \n",
       "\n",
       "   TimeFromFirstStop_p40  TimeFromFirstStop_p50  TimeFromFirstStop_p60  \\\n",
       "0                      0                      0                      0   \n",
       "1                      0                      0                      0   \n",
       "\n",
       "   TimeFromFirstStop_p80  DistanceToFirstStop_p20  DistanceToFirstStop_p40  \\\n",
       "0                      0                      0.0                      0.0   \n",
       "1                      0                      0.0                      0.0   \n",
       "\n",
       "   DistanceToFirstStop_p50  DistanceToFirstStop_p60  DistanceToFirstStop_p80  \\\n",
       "0                      0.0                      0.0                      0.0   \n",
       "1                      0.0                      0.0                      0.0   \n",
       "\n",
       "      City  TotalTimeStopped  \n",
       "0  Atlanta                 0  \n",
       "1  Atlanta                 0  "
      ]
     },
     "execution_count": 21,
     "metadata": {},
     "output_type": "execute_result"
    }
   ],
   "source": [
    "pd.set_option('display.max_columns', 30)\n",
    "train.head(2)"
   ]
  },
  {
   "cell_type": "code",
   "execution_count": 22,
   "metadata": {},
   "outputs": [],
   "source": [
    "train = pd.get_dummies(train, columns=['EntryHeading' ], prefix=['ENH'], drop_first=False)\n",
    "train = pd.get_dummies(train, columns=['ExitHeading' ], prefix=['EXH'], drop_first=False)\n",
    "\n",
    "test = pd.get_dummies(test, columns=['EntryHeading' ], prefix=['ENH'], drop_first=False)\n",
    "test = pd.get_dummies(test, columns=['ExitHeading' ], prefix=['EXH'], drop_first=False)\n"
   ]
  },
  {
   "cell_type": "code",
   "execution_count": 23,
   "metadata": {},
   "outputs": [],
   "source": [
    "train = pd.get_dummies(train, columns=['City' ], prefix=['City'], drop_first=False)\n",
    "test = pd.get_dummies(test, columns=['City' ], prefix=['City'], drop_first=False)"
   ]
  },
  {
   "cell_type": "code",
   "execution_count": 24,
   "metadata": {},
   "outputs": [
    {
     "data": {
      "text/plain": [
       "Index(['RowId', 'IntersectionId', 'Latitude', 'Longitude', 'EntryStreetName',\n",
       "       'ExitStreetName', 'Hour', 'Weekend', 'Month', 'Path',\n",
       "       'TotalTimeStopped_p20', 'TotalTimeStopped_p40', 'TotalTimeStopped_p50',\n",
       "       'TotalTimeStopped_p60', 'TotalTimeStopped_p80', 'TimeFromFirstStop_p20',\n",
       "       'TimeFromFirstStop_p40', 'TimeFromFirstStop_p50',\n",
       "       'TimeFromFirstStop_p60', 'TimeFromFirstStop_p80',\n",
       "       'DistanceToFirstStop_p20', 'DistanceToFirstStop_p40',\n",
       "       'DistanceToFirstStop_p50', 'DistanceToFirstStop_p60',\n",
       "       'DistanceToFirstStop_p80', 'TotalTimeStopped', 'ENH_E', 'ENH_N',\n",
       "       'ENH_NE', 'ENH_NW', 'ENH_S', 'ENH_SE', 'ENH_SW', 'ENH_W', 'EXH_E',\n",
       "       'EXH_N', 'EXH_NE', 'EXH_NW', 'EXH_S', 'EXH_SE', 'EXH_SW', 'EXH_W',\n",
       "       'City_Atlanta', 'City_Boston', 'City_Chicago', 'City_Philadelphia'],\n",
       "      dtype='object')"
      ]
     },
     "execution_count": 24,
     "metadata": {},
     "output_type": "execute_result"
    }
   ],
   "source": [
    "pd.set_option('display.max_columns', 90)\n",
    "train.columns"
   ]
  },
  {
   "cell_type": "code",
   "execution_count": 25,
   "metadata": {},
   "outputs": [],
   "source": [
    "#target:\n",
    "\n",
    "y1 = train[\"TotalTimeStopped_p20\"]\n",
    "y2 = train[\"TotalTimeStopped_p50\"]\n",
    "y3 = train[\"TotalTimeStopped_p80\"]\n",
    "y4 = train[\"DistanceToFirstStop_p20\"]\n",
    "y5 = train[\"DistanceToFirstStop_p50\"]\n",
    "y6 = train[\"DistanceToFirstStop_p80\"]\n",
    "\n",
    "#feature list:\n",
    "train = train[[\"IntersectionId\", \"Hour\",\"Weekend\",\"Month\",\"Latitude\", \"Longitude\",\n",
    "              \"City_Atlanta\", \"City_Boston\", \"City_Chicago\", \"City_Philadelphia\",\n",
    "              \"ENH_E\",\"ENH_N\",\"ENH_NE\",\"ENH_NW\",\"ENH_S\",\"ENH_SE\",\"ENH_SW\",\"ENH_W\",\n",
    "              \"EXH_E\",\"EXH_N\",\"EXH_NE\",\"EXH_NW\",\"EXH_S\",\"EXH_SE\",\"EXH_SW\",\"EXH_W\"]]"
   ]
  },
  {
   "cell_type": "code",
   "execution_count": 26,
   "metadata": {},
   "outputs": [],
   "source": [
    "# scale Long and lat columns\n",
    "\n",
    "scaler = StandardScaler()\n",
    "for col in [\"Latitude\", \"Longitude\"]:\n",
    "    scaler.fit(train[col].values.reshape(-1, 1))\n",
    "    train[col] = scaler.transform(train[col].values.reshape(-1, 1))\n"
   ]
  },
  {
   "cell_type": "code",
   "execution_count": 27,
   "metadata": {},
   "outputs": [
    {
     "data": {
      "text/html": [
       "<div>\n",
       "<style scoped>\n",
       "    .dataframe tbody tr th:only-of-type {\n",
       "        vertical-align: middle;\n",
       "    }\n",
       "\n",
       "    .dataframe tbody tr th {\n",
       "        vertical-align: top;\n",
       "    }\n",
       "\n",
       "    .dataframe thead th {\n",
       "        text-align: right;\n",
       "    }\n",
       "</style>\n",
       "<table border=\"1\" class=\"dataframe\">\n",
       "  <thead>\n",
       "    <tr style=\"text-align: right;\">\n",
       "      <th></th>\n",
       "      <th>IntersectionId</th>\n",
       "      <th>Hour</th>\n",
       "      <th>Weekend</th>\n",
       "      <th>Month</th>\n",
       "      <th>Latitude</th>\n",
       "      <th>Longitude</th>\n",
       "      <th>City_Atlanta</th>\n",
       "      <th>City_Boston</th>\n",
       "      <th>City_Chicago</th>\n",
       "      <th>City_Philadelphia</th>\n",
       "      <th>ENH_E</th>\n",
       "      <th>ENH_N</th>\n",
       "      <th>ENH_NE</th>\n",
       "      <th>ENH_NW</th>\n",
       "      <th>ENH_S</th>\n",
       "      <th>ENH_SE</th>\n",
       "      <th>ENH_SW</th>\n",
       "      <th>ENH_W</th>\n",
       "      <th>EXH_E</th>\n",
       "      <th>EXH_N</th>\n",
       "      <th>EXH_NE</th>\n",
       "      <th>EXH_NW</th>\n",
       "      <th>EXH_S</th>\n",
       "      <th>EXH_SE</th>\n",
       "      <th>EXH_SW</th>\n",
       "      <th>EXH_W</th>\n",
       "    </tr>\n",
       "  </thead>\n",
       "  <tbody>\n",
       "    <tr>\n",
       "      <th>0</th>\n",
       "      <td>0</td>\n",
       "      <td>0</td>\n",
       "      <td>0</td>\n",
       "      <td>6</td>\n",
       "      <td>-2.035156</td>\n",
       "      <td>-1.097656</td>\n",
       "      <td>1</td>\n",
       "      <td>0</td>\n",
       "      <td>0</td>\n",
       "      <td>0</td>\n",
       "      <td>0</td>\n",
       "      <td>0</td>\n",
       "      <td>0</td>\n",
       "      <td>1</td>\n",
       "      <td>0</td>\n",
       "      <td>0</td>\n",
       "      <td>0</td>\n",
       "      <td>0</td>\n",
       "      <td>0</td>\n",
       "      <td>0</td>\n",
       "      <td>0</td>\n",
       "      <td>1</td>\n",
       "      <td>0</td>\n",
       "      <td>0</td>\n",
       "      <td>0</td>\n",
       "      <td>0</td>\n",
       "    </tr>\n",
       "    <tr>\n",
       "      <th>1</th>\n",
       "      <td>0</td>\n",
       "      <td>0</td>\n",
       "      <td>0</td>\n",
       "      <td>6</td>\n",
       "      <td>-2.035156</td>\n",
       "      <td>-1.097656</td>\n",
       "      <td>1</td>\n",
       "      <td>0</td>\n",
       "      <td>0</td>\n",
       "      <td>0</td>\n",
       "      <td>0</td>\n",
       "      <td>0</td>\n",
       "      <td>0</td>\n",
       "      <td>0</td>\n",
       "      <td>0</td>\n",
       "      <td>1</td>\n",
       "      <td>0</td>\n",
       "      <td>0</td>\n",
       "      <td>0</td>\n",
       "      <td>0</td>\n",
       "      <td>0</td>\n",
       "      <td>0</td>\n",
       "      <td>0</td>\n",
       "      <td>1</td>\n",
       "      <td>0</td>\n",
       "      <td>0</td>\n",
       "    </tr>\n",
       "    <tr>\n",
       "      <th>2</th>\n",
       "      <td>0</td>\n",
       "      <td>1</td>\n",
       "      <td>0</td>\n",
       "      <td>6</td>\n",
       "      <td>-2.035156</td>\n",
       "      <td>-1.097656</td>\n",
       "      <td>1</td>\n",
       "      <td>0</td>\n",
       "      <td>0</td>\n",
       "      <td>0</td>\n",
       "      <td>0</td>\n",
       "      <td>0</td>\n",
       "      <td>0</td>\n",
       "      <td>1</td>\n",
       "      <td>0</td>\n",
       "      <td>0</td>\n",
       "      <td>0</td>\n",
       "      <td>0</td>\n",
       "      <td>0</td>\n",
       "      <td>0</td>\n",
       "      <td>0</td>\n",
       "      <td>1</td>\n",
       "      <td>0</td>\n",
       "      <td>0</td>\n",
       "      <td>0</td>\n",
       "      <td>0</td>\n",
       "    </tr>\n",
       "    <tr>\n",
       "      <th>3</th>\n",
       "      <td>0</td>\n",
       "      <td>1</td>\n",
       "      <td>0</td>\n",
       "      <td>6</td>\n",
       "      <td>-2.035156</td>\n",
       "      <td>-1.097656</td>\n",
       "      <td>1</td>\n",
       "      <td>0</td>\n",
       "      <td>0</td>\n",
       "      <td>0</td>\n",
       "      <td>0</td>\n",
       "      <td>0</td>\n",
       "      <td>0</td>\n",
       "      <td>0</td>\n",
       "      <td>0</td>\n",
       "      <td>1</td>\n",
       "      <td>0</td>\n",
       "      <td>0</td>\n",
       "      <td>0</td>\n",
       "      <td>0</td>\n",
       "      <td>0</td>\n",
       "      <td>0</td>\n",
       "      <td>0</td>\n",
       "      <td>1</td>\n",
       "      <td>0</td>\n",
       "      <td>0</td>\n",
       "    </tr>\n",
       "    <tr>\n",
       "      <th>4</th>\n",
       "      <td>0</td>\n",
       "      <td>2</td>\n",
       "      <td>0</td>\n",
       "      <td>6</td>\n",
       "      <td>-2.035156</td>\n",
       "      <td>-1.097656</td>\n",
       "      <td>1</td>\n",
       "      <td>0</td>\n",
       "      <td>0</td>\n",
       "      <td>0</td>\n",
       "      <td>0</td>\n",
       "      <td>0</td>\n",
       "      <td>0</td>\n",
       "      <td>1</td>\n",
       "      <td>0</td>\n",
       "      <td>0</td>\n",
       "      <td>0</td>\n",
       "      <td>0</td>\n",
       "      <td>0</td>\n",
       "      <td>0</td>\n",
       "      <td>0</td>\n",
       "      <td>1</td>\n",
       "      <td>0</td>\n",
       "      <td>0</td>\n",
       "      <td>0</td>\n",
       "      <td>0</td>\n",
       "    </tr>\n",
       "  </tbody>\n",
       "</table>\n",
       "</div>"
      ],
      "text/plain": [
       "   IntersectionId  Hour  Weekend  Month  Latitude  Longitude  City_Atlanta  \\\n",
       "0               0     0        0      6 -2.035156  -1.097656             1   \n",
       "1               0     0        0      6 -2.035156  -1.097656             1   \n",
       "2               0     1        0      6 -2.035156  -1.097656             1   \n",
       "3               0     1        0      6 -2.035156  -1.097656             1   \n",
       "4               0     2        0      6 -2.035156  -1.097656             1   \n",
       "\n",
       "   City_Boston  City_Chicago  City_Philadelphia  ENH_E  ENH_N  ENH_NE  ENH_NW  \\\n",
       "0            0             0                  0      0      0       0       1   \n",
       "1            0             0                  0      0      0       0       0   \n",
       "2            0             0                  0      0      0       0       1   \n",
       "3            0             0                  0      0      0       0       0   \n",
       "4            0             0                  0      0      0       0       1   \n",
       "\n",
       "   ENH_S  ENH_SE  ENH_SW  ENH_W  EXH_E  EXH_N  EXH_NE  EXH_NW  EXH_S  EXH_SE  \\\n",
       "0      0       0       0      0      0      0       0       1      0       0   \n",
       "1      0       1       0      0      0      0       0       0      0       1   \n",
       "2      0       0       0      0      0      0       0       1      0       0   \n",
       "3      0       1       0      0      0      0       0       0      0       1   \n",
       "4      0       0       0      0      0      0       0       1      0       0   \n",
       "\n",
       "   EXH_SW  EXH_W  \n",
       "0       0      0  \n",
       "1       0      0  \n",
       "2       0      0  \n",
       "3       0      0  \n",
       "4       0      0  "
      ]
     },
     "execution_count": 27,
     "metadata": {},
     "output_type": "execute_result"
    }
   ],
   "source": [
    "train.head()"
   ]
  },
  {
   "cell_type": "markdown",
   "metadata": {},
   "source": [
    "*feature Engineering on test*"
   ]
  },
  {
   "cell_type": "code",
   "execution_count": 28,
   "metadata": {},
   "outputs": [],
   "source": [
    "#feature list:\n",
    "test = test[[\"IntersectionId\", \"Hour\",\"Weekend\",\"Month\", \"Latitude\", \"Longitude\",\n",
    "              \"City_Atlanta\", \"City_Boston\", \"City_Chicago\", \"City_Philadelphia\",\n",
    "              \"ENH_E\",\"ENH_N\",\"ENH_NE\",\"ENH_NW\",\"ENH_S\",\"ENH_SE\",\"ENH_SW\",\"ENH_W\",\n",
    "              \"EXH_E\",\"EXH_N\",\"EXH_NE\",\"EXH_NW\",\"EXH_S\",\"EXH_SE\",\"EXH_SW\",\"EXH_W\"]]"
   ]
  },
  {
   "cell_type": "code",
   "execution_count": 29,
   "metadata": {},
   "outputs": [],
   "source": [
    "#scaler = StandardScaler()\n",
    "for col in [\"Latitude\", \"Longitude\"]:\n",
    "    scaler.fit(test[col].values.reshape(-1, 1))\n",
    "    test[col] = scaler.transform(test[col].values.reshape(-1, 1))"
   ]
  },
  {
   "cell_type": "code",
   "execution_count": 30,
   "metadata": {},
   "outputs": [
    {
     "data": {
      "text/html": [
       "<div>\n",
       "<style scoped>\n",
       "    .dataframe tbody tr th:only-of-type {\n",
       "        vertical-align: middle;\n",
       "    }\n",
       "\n",
       "    .dataframe tbody tr th {\n",
       "        vertical-align: top;\n",
       "    }\n",
       "\n",
       "    .dataframe thead th {\n",
       "        text-align: right;\n",
       "    }\n",
       "</style>\n",
       "<table border=\"1\" class=\"dataframe\">\n",
       "  <thead>\n",
       "    <tr style=\"text-align: right;\">\n",
       "      <th></th>\n",
       "      <th>IntersectionId</th>\n",
       "      <th>Hour</th>\n",
       "      <th>Weekend</th>\n",
       "      <th>Month</th>\n",
       "      <th>Latitude</th>\n",
       "      <th>Longitude</th>\n",
       "      <th>City_Atlanta</th>\n",
       "      <th>City_Boston</th>\n",
       "      <th>City_Chicago</th>\n",
       "      <th>City_Philadelphia</th>\n",
       "      <th>ENH_E</th>\n",
       "      <th>ENH_N</th>\n",
       "      <th>ENH_NE</th>\n",
       "      <th>ENH_NW</th>\n",
       "      <th>ENH_S</th>\n",
       "      <th>ENH_SE</th>\n",
       "      <th>ENH_SW</th>\n",
       "      <th>ENH_W</th>\n",
       "      <th>EXH_E</th>\n",
       "      <th>EXH_N</th>\n",
       "      <th>EXH_NE</th>\n",
       "      <th>EXH_NW</th>\n",
       "      <th>EXH_S</th>\n",
       "      <th>EXH_SE</th>\n",
       "      <th>EXH_SW</th>\n",
       "      <th>EXH_W</th>\n",
       "    </tr>\n",
       "  </thead>\n",
       "  <tbody>\n",
       "    <tr>\n",
       "      <th>0</th>\n",
       "      <td>1</td>\n",
       "      <td>0</td>\n",
       "      <td>0</td>\n",
       "      <td>6</td>\n",
       "      <td>-2.052734</td>\n",
       "      <td>-1.095703</td>\n",
       "      <td>1</td>\n",
       "      <td>0</td>\n",
       "      <td>0</td>\n",
       "      <td>0</td>\n",
       "      <td>0</td>\n",
       "      <td>0</td>\n",
       "      <td>0</td>\n",
       "      <td>0</td>\n",
       "      <td>0</td>\n",
       "      <td>0</td>\n",
       "      <td>1</td>\n",
       "      <td>0</td>\n",
       "      <td>0</td>\n",
       "      <td>0</td>\n",
       "      <td>0</td>\n",
       "      <td>0</td>\n",
       "      <td>0</td>\n",
       "      <td>1</td>\n",
       "      <td>0</td>\n",
       "      <td>0</td>\n",
       "    </tr>\n",
       "    <tr>\n",
       "      <th>1</th>\n",
       "      <td>1</td>\n",
       "      <td>0</td>\n",
       "      <td>0</td>\n",
       "      <td>6</td>\n",
       "      <td>-2.052734</td>\n",
       "      <td>-1.095703</td>\n",
       "      <td>1</td>\n",
       "      <td>0</td>\n",
       "      <td>0</td>\n",
       "      <td>0</td>\n",
       "      <td>0</td>\n",
       "      <td>0</td>\n",
       "      <td>0</td>\n",
       "      <td>0</td>\n",
       "      <td>0</td>\n",
       "      <td>0</td>\n",
       "      <td>1</td>\n",
       "      <td>0</td>\n",
       "      <td>0</td>\n",
       "      <td>0</td>\n",
       "      <td>0</td>\n",
       "      <td>0</td>\n",
       "      <td>0</td>\n",
       "      <td>0</td>\n",
       "      <td>1</td>\n",
       "      <td>0</td>\n",
       "    </tr>\n",
       "    <tr>\n",
       "      <th>2</th>\n",
       "      <td>1</td>\n",
       "      <td>1</td>\n",
       "      <td>0</td>\n",
       "      <td>6</td>\n",
       "      <td>-2.052734</td>\n",
       "      <td>-1.095703</td>\n",
       "      <td>1</td>\n",
       "      <td>0</td>\n",
       "      <td>0</td>\n",
       "      <td>0</td>\n",
       "      <td>0</td>\n",
       "      <td>0</td>\n",
       "      <td>1</td>\n",
       "      <td>0</td>\n",
       "      <td>0</td>\n",
       "      <td>0</td>\n",
       "      <td>0</td>\n",
       "      <td>0</td>\n",
       "      <td>0</td>\n",
       "      <td>0</td>\n",
       "      <td>1</td>\n",
       "      <td>0</td>\n",
       "      <td>0</td>\n",
       "      <td>0</td>\n",
       "      <td>0</td>\n",
       "      <td>0</td>\n",
       "    </tr>\n",
       "    <tr>\n",
       "      <th>3</th>\n",
       "      <td>1</td>\n",
       "      <td>1</td>\n",
       "      <td>0</td>\n",
       "      <td>6</td>\n",
       "      <td>-2.052734</td>\n",
       "      <td>-1.095703</td>\n",
       "      <td>1</td>\n",
       "      <td>0</td>\n",
       "      <td>0</td>\n",
       "      <td>0</td>\n",
       "      <td>0</td>\n",
       "      <td>0</td>\n",
       "      <td>0</td>\n",
       "      <td>0</td>\n",
       "      <td>0</td>\n",
       "      <td>0</td>\n",
       "      <td>1</td>\n",
       "      <td>0</td>\n",
       "      <td>0</td>\n",
       "      <td>0</td>\n",
       "      <td>0</td>\n",
       "      <td>0</td>\n",
       "      <td>0</td>\n",
       "      <td>0</td>\n",
       "      <td>1</td>\n",
       "      <td>0</td>\n",
       "    </tr>\n",
       "    <tr>\n",
       "      <th>4</th>\n",
       "      <td>1</td>\n",
       "      <td>2</td>\n",
       "      <td>0</td>\n",
       "      <td>6</td>\n",
       "      <td>-2.052734</td>\n",
       "      <td>-1.095703</td>\n",
       "      <td>1</td>\n",
       "      <td>0</td>\n",
       "      <td>0</td>\n",
       "      <td>0</td>\n",
       "      <td>0</td>\n",
       "      <td>0</td>\n",
       "      <td>1</td>\n",
       "      <td>0</td>\n",
       "      <td>0</td>\n",
       "      <td>0</td>\n",
       "      <td>0</td>\n",
       "      <td>0</td>\n",
       "      <td>0</td>\n",
       "      <td>0</td>\n",
       "      <td>1</td>\n",
       "      <td>0</td>\n",
       "      <td>0</td>\n",
       "      <td>0</td>\n",
       "      <td>0</td>\n",
       "      <td>0</td>\n",
       "    </tr>\n",
       "  </tbody>\n",
       "</table>\n",
       "</div>"
      ],
      "text/plain": [
       "   IntersectionId  Hour  Weekend  Month  Latitude  Longitude  City_Atlanta  \\\n",
       "0               1     0        0      6 -2.052734  -1.095703             1   \n",
       "1               1     0        0      6 -2.052734  -1.095703             1   \n",
       "2               1     1        0      6 -2.052734  -1.095703             1   \n",
       "3               1     1        0      6 -2.052734  -1.095703             1   \n",
       "4               1     2        0      6 -2.052734  -1.095703             1   \n",
       "\n",
       "   City_Boston  City_Chicago  City_Philadelphia  ENH_E  ENH_N  ENH_NE  ENH_NW  \\\n",
       "0            0             0                  0      0      0       0       0   \n",
       "1            0             0                  0      0      0       0       0   \n",
       "2            0             0                  0      0      0       1       0   \n",
       "3            0             0                  0      0      0       0       0   \n",
       "4            0             0                  0      0      0       1       0   \n",
       "\n",
       "   ENH_S  ENH_SE  ENH_SW  ENH_W  EXH_E  EXH_N  EXH_NE  EXH_NW  EXH_S  EXH_SE  \\\n",
       "0      0       0       1      0      0      0       0       0      0       1   \n",
       "1      0       0       1      0      0      0       0       0      0       0   \n",
       "2      0       0       0      0      0      0       1       0      0       0   \n",
       "3      0       0       1      0      0      0       0       0      0       0   \n",
       "4      0       0       0      0      0      0       1       0      0       0   \n",
       "\n",
       "   EXH_SW  EXH_W  \n",
       "0       0      0  \n",
       "1       1      0  \n",
       "2       0      0  \n",
       "3       1      0  \n",
       "4       0      0  "
      ]
     },
     "execution_count": 30,
     "metadata": {},
     "output_type": "execute_result"
    }
   ],
   "source": [
    "test.head()"
   ]
  },
  {
   "cell_type": "markdown",
   "metadata": {},
   "source": [
    "## Model Selction : Training and Evaluations "
   ]
  },
  {
   "cell_type": "code",
   "execution_count": 31,
   "metadata": {},
   "outputs": [],
   "source": [
    "def linearRegrestion_evaluation(target):\n",
    "    \n",
    "    #x_train, x_cv, y_train, y_cv = train_test_split(X,train.Item_Outlet_Sales, test_size =0.3)\n",
    "    X_train, X_test, y_train, y_test = train_test_split(train, target, test_size=0.1, random_state=42)\n",
    "    \n",
    "    lreg = LinearRegression()\n",
    "\n",
    "    #train the model:\n",
    "    lreg.fit(X_train, y_train)\n",
    "\n",
    "    #predict with features set:\n",
    "    y_pred = lreg.predict(X_test)\n",
    "\n",
    "\n",
    "    print('test score: %.4f' % lreg.score(X_test, y_test)) \n",
    "    print('training score: %.4f' % lreg.score(X_train, y_train)) \n",
    "\n",
    "    print ('r2 score: ', r2_score(y_test, y_pred))\n",
    "    print ('RMSE: ', np.sqrt(mean_squared_error(y_test, y_pred)))\n"
   ]
  },
  {
   "cell_type": "markdown",
   "metadata": {},
   "source": [
    "**Evaluating LinearRegression: Using train dataset**"
   ]
  },
  {
   "cell_type": "code",
   "execution_count": 32,
   "metadata": {},
   "outputs": [
    {
     "name": "stdout",
     "output_type": "stream",
     "text": [
      "test score: 0.0056\n",
      "training score: 0.0061\n",
      "r2 score:  0.005603831999429598\n",
      "RMSE:  6.797967\n"
     ]
    }
   ],
   "source": [
    "#target y1 : \"totalTimeStopped_p20\" \n",
    "\n",
    "linearRegrestion_evaluation(y1)\n"
   ]
  },
  {
   "cell_type": "code",
   "execution_count": 33,
   "metadata": {},
   "outputs": [
    {
     "name": "stdout",
     "output_type": "stream",
     "text": [
      "test score: 0.0201\n",
      "training score: 0.0213\n",
      "r2 score:  0.02010839045277424\n",
      "RMSE:  15.116953\n"
     ]
    }
   ],
   "source": [
    "#target y2 : \"totalTimeStopped_p50\"  \n",
    "linearRegrestion_evaluation(y2)"
   ]
  },
  {
   "cell_type": "code",
   "execution_count": 34,
   "metadata": {},
   "outputs": [
    {
     "name": "stdout",
     "output_type": "stream",
     "text": [
      "test score: 0.0348\n",
      "training score: 0.0363\n",
      "r2 score:  0.03480057408279891\n",
      "RMSE:  27.35675\n"
     ]
    }
   ],
   "source": [
    "#target y3 : \"totalTimeStopped_p80\"  \n",
    "linearRegrestion_evaluation(y3)"
   ]
  },
  {
   "cell_type": "code",
   "execution_count": 35,
   "metadata": {},
   "outputs": [],
   "source": [
    "def ridge_lasso_evaluation(Model, target):\n",
    "    X_train, X_test, y_train, y_test = train_test_split(train, target, test_size=0.1, random_state=42)\n",
    "\n",
    "    modelobj= Model(alpha =0.0007, random_state=42)\n",
    "    modelobj.fit(X_train, y_train)\n",
    "    y_pred = modelobj.predict(X_test)\n",
    "\n",
    "    #print train Vs test score:\n",
    "    print(\"\\nTraining Vs Test Scores: \")\n",
    "    print('test_set R-squared score: %.4f' % modelobj.score(X_test, y_test)) \n",
    "    print('train_set R-squared score: %.4f' % modelobj.score(X_train, y_train)) \n",
    "     \n",
    "    #print how prediction differ from actual:\n",
    "    print(\"\\nModel Performance:\")\n",
    "    print ('r2_score: ', r2_score(y_test, y_pred))\n",
    "    print ('RMSE: ', np.sqrt(mean_squared_error(y_test, y_pred)))\n"
   ]
  },
  {
   "cell_type": "markdown",
   "metadata": {},
   "source": [
    "**Evaluating Ridge: Using train dataset**"
   ]
  },
  {
   "cell_type": "code",
   "execution_count": 36,
   "metadata": {},
   "outputs": [
    {
     "name": "stdout",
     "output_type": "stream",
     "text": [
      "\n",
      "Training Vs Test Scores: \n",
      "test_set R-squared score: 0.0056\n",
      "train_set R-squared score: 0.0061\n",
      "\n",
      "Model Performance:\n",
      "r2_score:  0.0056038447812523096\n",
      "RMSE:  6.797966643426516\n"
     ]
    }
   ],
   "source": [
    "#target y1 : \"totalTimeStopped_p20\"\n",
    "\n",
    "ridge_lasso_evaluation(Ridge, y1)"
   ]
  },
  {
   "cell_type": "code",
   "execution_count": 37,
   "metadata": {},
   "outputs": [
    {
     "name": "stdout",
     "output_type": "stream",
     "text": [
      "\n",
      "Training Vs Test Scores: \n",
      "test_set R-squared score: 0.0201\n",
      "train_set R-squared score: 0.0213\n",
      "\n",
      "Model Performance:\n",
      "r2_score:  0.020108430677747147\n",
      "RMSE:  15.11695200672456\n"
     ]
    }
   ],
   "source": [
    "#target y2 : \"totalTimeStopped_p50\" \n",
    "\n",
    "ridge_lasso_evaluation(Ridge, y2)"
   ]
  },
  {
   "cell_type": "code",
   "execution_count": 38,
   "metadata": {},
   "outputs": [
    {
     "name": "stdout",
     "output_type": "stream",
     "text": [
      "\n",
      "Training Vs Test Scores: \n",
      "test_set R-squared score: 0.0348\n",
      "train_set R-squared score: 0.0363\n",
      "\n",
      "Model Performance:\n",
      "r2_score:  0.0348005841978013\n",
      "RMSE:  27.35674967735739\n"
     ]
    }
   ],
   "source": [
    "#target y3 : \"totalTimeStopped_p80\" \n",
    "\n",
    "ridge_lasso_evaluation(Ridge, y3)"
   ]
  },
  {
   "cell_type": "markdown",
   "metadata": {},
   "source": [
    "**Evaluating lasso: Using train dataset**"
   ]
  },
  {
   "cell_type": "code",
   "execution_count": 39,
   "metadata": {},
   "outputs": [
    {
     "name": "stdout",
     "output_type": "stream",
     "text": [
      "\n",
      "Training Vs Test Scores: \n",
      "test_set R-squared score: 0.0045\n",
      "train_set R-squared score: 0.0047\n",
      "\n",
      "Model Performance:\n",
      "r2_score:  0.004539766850093607\n",
      "RMSE:  6.801602836187872\n"
     ]
    }
   ],
   "source": [
    "#target y1 : \"totalTimeStopped_p20\"\n",
    "ridge_lasso_evaluation(Lasso, y1)"
   ]
  },
  {
   "cell_type": "code",
   "execution_count": 40,
   "metadata": {},
   "outputs": [
    {
     "name": "stdout",
     "output_type": "stream",
     "text": [
      "\n",
      "Training Vs Test Scores: \n",
      "test_set R-squared score: 0.0179\n",
      "train_set R-squared score: 0.0187\n",
      "\n",
      "Model Performance:\n",
      "r2_score:  0.01786270680267632\n",
      "RMSE:  15.13426467298955\n"
     ]
    }
   ],
   "source": [
    "#target y2 : \"totalTimeStopped_p50\"\n",
    "ridge_lasso_evaluation(Lasso, y2)"
   ]
  },
  {
   "cell_type": "code",
   "execution_count": 41,
   "metadata": {},
   "outputs": [
    {
     "name": "stdout",
     "output_type": "stream",
     "text": [
      "\n",
      "Training Vs Test Scores: \n",
      "test_set R-squared score: 0.0330\n",
      "train_set R-squared score: 0.0343\n",
      "\n",
      "Model Performance:\n",
      "r2_score:  0.033041766467295286\n",
      "RMSE:  27.38166351180405\n"
     ]
    }
   ],
   "source": [
    "#target y3 : \"totalTimeStopped_p80\"\n",
    "ridge_lasso_evaluation(Lasso, y3)"
   ]
  },
  {
   "cell_type": "markdown",
   "metadata": {},
   "source": [
    "with LinearRegression, ridge and lasso do not see satisfactory performance. We need to have boosting algorithm models..!!\n",
    "This would take hyperparameter tuning and multipler runs to get the best parameters to use for training and prediction."
   ]
  },
  {
   "cell_type": "markdown",
   "metadata": {},
   "source": [
    "**Evaluating lightGBM: Using train dataset**"
   ]
  },
  {
   "cell_type": "code",
   "execution_count": 42,
   "metadata": {},
   "outputs": [],
   "source": [
    "def lightGBM_evaluation(target):\n",
    "    X_train, X_test, y_train, y_test = train_test_split(train, target, test_size=0.1, random_state=42)\n",
    "    lgbm = lgb.LGBMRegressor(objective='regression',learning_rate=0.5, n_estimators=1200,\n",
    "                              colsample_bytree=1.0, num_leaves=200,max_depth=10,metric='rmse',\n",
    "                              min_child_samples=100, subsample=1)\n",
    "    \n",
    "    lgbm.fit(X_train, y_train)\n",
    "    y_pred = lgbm.predict(X_test)\n",
    "    \n",
    "    #print train Vs test score:\n",
    "    print(\"\\nTraining Vs Test Scores: \")\n",
    "    print('While testing  R-squared score: %.4f' % lgbm.score(X_test, y_test)) \n",
    "    print('While training R-squared score: %.4f' % lgbm.score(X_train, y_train)) \n",
    "   \n",
    "    #print how prediction differ from actual:\n",
    "    print(\"\\nModel Performance:\")\n",
    "    print ('r2_score: ', r2_score(y_test, y_pred))\n",
    "    print ('RMSE: ', np.sqrt(mean_squared_error(y_test, y_pred)))\n",
    "        "
   ]
  },
  {
   "cell_type": "code",
   "execution_count": 43,
   "metadata": {},
   "outputs": [
    {
     "name": "stdout",
     "output_type": "stream",
     "text": [
      "\n",
      "Training Vs Test Scores: \n",
      "While testing  R-squared score: 0.3115\n",
      "While training R-squared score: 0.5701\n",
      "\n",
      "Model Performance:\n",
      "r2_score:  0.3115353665802324\n",
      "RMSE:  5.656400196529063\n"
     ]
    }
   ],
   "source": [
    "#target y1 : \"totalTimeStopped_p20\"\n",
    "lightGBM_evaluation(y1)"
   ]
  },
  {
   "cell_type": "code",
   "execution_count": 44,
   "metadata": {},
   "outputs": [
    {
     "name": "stdout",
     "output_type": "stream",
     "text": [
      "\n",
      "Training Vs Test Scores: \n",
      "While testing  R-squared score: 0.5470\n",
      "While training R-squared score: 0.7036\n",
      "\n",
      "Model Performance:\n",
      "r2_score:  0.5470312604397809\n",
      "RMSE:  10.278017182365753\n"
     ]
    }
   ],
   "source": [
    "#target y2 : \"totalTimeStopped_p50\"\n",
    "lightGBM_evaluation(y2)"
   ]
  },
  {
   "cell_type": "code",
   "execution_count": 45,
   "metadata": {},
   "outputs": [
    {
     "name": "stdout",
     "output_type": "stream",
     "text": [
      "\n",
      "Training Vs Test Scores: \n",
      "While testing  R-squared score: 0.5989\n",
      "While training R-squared score: 0.7314\n",
      "\n",
      "Model Performance:\n",
      "r2_score:  0.5989339735822842\n",
      "RMSE:  17.634530800659185\n"
     ]
    }
   ],
   "source": [
    "#target y3 : \"totalTimeStopped_p80\"\n",
    "lightGBM_evaluation(y3)"
   ]
  },
  {
   "cell_type": "markdown",
   "metadata": {},
   "source": [
    "**Evaluating Catboost: Using train dataset**"
   ]
  },
  {
   "cell_type": "code",
   "execution_count": 46,
   "metadata": {},
   "outputs": [],
   "source": [
    "def catboost_evaluation(target):\n",
    "    X_train, X_test, y_train, y_test = train_test_split(train, target, test_size=0.1, random_state=42)\n",
    "    catb = CatBoostRegressor(iterations=800,learning_rate=0.2,depth=14,\n",
    "                             eval_metric='RMSE',random_seed = 42,\n",
    "                             bagging_temperature = 0.2,od_type='Iter',\n",
    "                             metric_period = 75, early_stopping_rounds=10)\n",
    "\n",
    "    catb.fit(X_train, y_train)\n",
    "    y_pred=catb.predict(X_test)\n",
    "    #print train Vs test score:\n",
    "    print(\"\\nTraining Vs Test Scores: \")\n",
    "    print('test_set R-squared score: %.4f' % catb.score(X_test, y_test)) \n",
    "    print('train_set R-squared score: %.4f' % catb.score(X_train, y_train)) \n",
    "     \n",
    "    #print how prediction differ from actual:\n",
    "    print(\"\\nModel Performance:\")\n",
    "    print ('r2_score: ', r2_score(y_test, y_pred))\n",
    "    print ('RMSE: ', np.sqrt(mean_squared_error(y_test, y_pred)))"
   ]
  },
  {
   "cell_type": "code",
   "execution_count": 47,
   "metadata": {},
   "outputs": [
    {
     "name": "stdout",
     "output_type": "stream",
     "text": [
      "0:\tlearn: 6.8953337\ttotal: 826ms\tremaining: 11m\n",
      "75:\tlearn: 6.0408013\ttotal: 53.4s\tremaining: 8m 28s\n",
      "150:\tlearn: 5.7212413\ttotal: 1m 45s\tremaining: 7m 34s\n",
      "225:\tlearn: 5.5180059\ttotal: 2m 34s\tremaining: 6m 32s\n",
      "300:\tlearn: 5.3524286\ttotal: 3m 25s\tremaining: 5m 40s\n",
      "375:\tlearn: 5.2155385\ttotal: 4m 17s\tremaining: 4m 50s\n",
      "450:\tlearn: 5.0966224\ttotal: 5m 9s\tremaining: 3m 59s\n",
      "525:\tlearn: 4.9972132\ttotal: 6m\tremaining: 3m 7s\n",
      "600:\tlearn: 4.9021022\ttotal: 6m 53s\tremaining: 2m 16s\n",
      "675:\tlearn: 4.8177052\ttotal: 7m 44s\tremaining: 1m 25s\n",
      "750:\tlearn: 4.7388049\ttotal: 8m 36s\tremaining: 33.7s\n",
      "799:\tlearn: 4.6885135\ttotal: 9m 10s\tremaining: 0us\n",
      "\n",
      "Training Vs Test Scores: \n",
      "test_set R-squared score: 0.3131\n",
      "train_set R-squared score: 0.5432\n",
      "\n",
      "Model Performance:\n",
      "r2_score:  0.31311052488706004\n",
      "RMSE:  5.649925769690621\n"
     ]
    }
   ],
   "source": [
    "#target y1 : \"totalTimeStopped_p20\"\n",
    "catboost_evaluation(y1)"
   ]
  },
  {
   "cell_type": "code",
   "execution_count": 48,
   "metadata": {},
   "outputs": [
    {
     "name": "stdout",
     "output_type": "stream",
     "text": [
      "0:\tlearn: 15.1409542\ttotal: 653ms\tremaining: 8m 41s\n",
      "75:\tlearn: 12.4288310\ttotal: 47.5s\tremaining: 7m 32s\n",
      "150:\tlearn: 11.5668037\ttotal: 1m 34s\tremaining: 6m 47s\n",
      "225:\tlearn: 11.0364540\ttotal: 2m 21s\tremaining: 5m 59s\n",
      "300:\tlearn: 10.6089740\ttotal: 3m 7s\tremaining: 5m 11s\n",
      "375:\tlearn: 10.2885594\ttotal: 3m 54s\tremaining: 4m 24s\n",
      "450:\tlearn: 10.0316753\ttotal: 4m 41s\tremaining: 3m 37s\n",
      "525:\tlearn: 9.8079479\ttotal: 5m 29s\tremaining: 2m 51s\n",
      "600:\tlearn: 9.6016270\ttotal: 6m 15s\tremaining: 2m 4s\n",
      "675:\tlearn: 9.4201824\ttotal: 7m 1s\tremaining: 1m 17s\n",
      "750:\tlearn: 9.2550450\ttotal: 7m 48s\tremaining: 30.6s\n",
      "799:\tlearn: 9.1648616\ttotal: 8m 19s\tremaining: 0us\n",
      "\n",
      "Training Vs Test Scores: \n",
      "test_set R-squared score: 0.5308\n",
      "train_set R-squared score: 0.6432\n",
      "\n",
      "Model Performance:\n",
      "r2_score:  0.5307943614550377\n",
      "RMSE:  10.460605766311053\n"
     ]
    }
   ],
   "source": [
    "#target y2 : \"totalTimeStopped_p50\"\n",
    "catboost_evaluation(y2)"
   ]
  },
  {
   "cell_type": "code",
   "execution_count": 49,
   "metadata": {},
   "outputs": [
    {
     "name": "stdout",
     "output_type": "stream",
     "text": [
      "0:\tlearn: 27.1860145\ttotal: 676ms\tremaining: 9m\n",
      "75:\tlearn: 22.0969439\ttotal: 47.5s\tremaining: 7m 32s\n",
      "150:\tlearn: 20.5275059\ttotal: 1m 34s\tremaining: 6m 44s\n",
      "225:\tlearn: 19.4630228\ttotal: 2m 20s\tremaining: 5m 57s\n",
      "300:\tlearn: 18.7253792\ttotal: 3m 8s\tremaining: 5m 12s\n",
      "375:\tlearn: 18.1421585\ttotal: 3m 53s\tremaining: 4m 23s\n",
      "450:\tlearn: 17.6138388\ttotal: 4m 39s\tremaining: 3m 36s\n",
      "525:\tlearn: 17.1974197\ttotal: 5m 26s\tremaining: 2m 50s\n",
      "600:\tlearn: 16.8271297\ttotal: 6m 14s\tremaining: 2m 3s\n",
      "675:\tlearn: 16.5055400\ttotal: 7m 1s\tremaining: 1m 17s\n",
      "750:\tlearn: 16.2208396\ttotal: 7m 48s\tremaining: 30.6s\n",
      "799:\tlearn: 16.0393167\ttotal: 8m 18s\tremaining: 0us\n",
      "\n",
      "Training Vs Test Scores: \n",
      "test_set R-squared score: 0.5752\n",
      "train_set R-squared score: 0.6677\n",
      "\n",
      "Model Performance:\n",
      "r2_score:  0.5751520369769147\n",
      "RMSE:  18.149837518819954\n"
     ]
    }
   ],
   "source": [
    "#target y3 : \"totalTimeStopped_p80\"\n",
    "catboost_evaluation(y3)"
   ]
  },
  {
   "cell_type": "markdown",
   "metadata": {},
   "source": [
    "## Predictions : Using Catboost and LightGBM Model "
   ]
  },
  {
   "cell_type": "markdown",
   "metadata": {},
   "source": [
    "After seeing the performance of catboost and lightGBM model with the training set, now actually using them to predict 'test.csv' dataset."
   ]
  },
  {
   "cell_type": "markdown",
   "metadata": {},
   "source": [
    "**Prediction-1: First Prediction Set -> Set1**"
   ]
  },
  {
   "cell_type": "code",
   "execution_count": 53,
   "metadata": {},
   "outputs": [
    {
     "name": "stdout",
     "output_type": "stream",
     "text": [
      "0:\tlearn: 6.8763916\ttotal: 485ms\tremaining: 6m 27s\n",
      "75:\tlearn: 6.0484983\ttotal: 29.4s\tremaining: 4m 39s\n",
      "150:\tlearn: 5.7363810\ttotal: 59s\tremaining: 4m 13s\n",
      "225:\tlearn: 5.5290246\ttotal: 1m 28s\tremaining: 3m 43s\n",
      "300:\tlearn: 5.3670913\ttotal: 1m 56s\tremaining: 3m 13s\n",
      "375:\tlearn: 5.2303364\ttotal: 2m 24s\tremaining: 2m 43s\n",
      "450:\tlearn: 5.1126759\ttotal: 2m 53s\tremaining: 2m 13s\n",
      "525:\tlearn: 5.0168962\ttotal: 3m 21s\tremaining: 1m 44s\n",
      "600:\tlearn: 4.9278817\ttotal: 3m 48s\tremaining: 1m 15s\n",
      "675:\tlearn: 4.8467272\ttotal: 4m 16s\tremaining: 47.1s\n",
      "750:\tlearn: 4.7674596\ttotal: 4m 45s\tremaining: 18.6s\n",
      "799:\tlearn: 4.7174285\ttotal: 5m 3s\tremaining: 0us\n",
      "0:\tlearn: 15.0743727\ttotal: 399ms\tremaining: 5m 18s\n",
      "75:\tlearn: 12.4453674\ttotal: 32s\tremaining: 5m 4s\n",
      "150:\tlearn: 11.5545619\ttotal: 1m\tremaining: 4m 19s\n",
      "225:\tlearn: 10.9876984\ttotal: 1m 28s\tremaining: 3m 44s\n",
      "300:\tlearn: 10.5879260\ttotal: 1m 56s\tremaining: 3m 13s\n",
      "375:\tlearn: 10.2698438\ttotal: 2m 24s\tremaining: 2m 43s\n",
      "450:\tlearn: 9.9978852\ttotal: 2m 53s\tremaining: 2m 14s\n",
      "525:\tlearn: 9.7825857\ttotal: 3m 21s\tremaining: 1m 44s\n",
      "600:\tlearn: 9.5920285\ttotal: 3m 49s\tremaining: 1m 16s\n",
      "675:\tlearn: 9.4177065\ttotal: 4m 17s\tremaining: 47.3s\n",
      "750:\tlearn: 9.2554671\ttotal: 4m 46s\tremaining: 18.7s\n",
      "799:\tlearn: 9.1578411\ttotal: 5m 4s\tremaining: 0us\n",
      "0:\tlearn: 27.1952971\ttotal: 404ms\tremaining: 5m 23s\n",
      "75:\tlearn: 22.1411519\ttotal: 31.5s\tremaining: 5m\n",
      "150:\tlearn: 20.4715320\ttotal: 59.8s\tremaining: 4m 16s\n",
      "225:\tlearn: 19.4071919\ttotal: 1m 27s\tremaining: 3m 43s\n",
      "300:\tlearn: 18.6408166\ttotal: 1m 55s\tremaining: 3m 11s\n",
      "375:\tlearn: 18.0540194\ttotal: 2m 24s\tremaining: 2m 43s\n",
      "450:\tlearn: 17.5836361\ttotal: 2m 55s\tremaining: 2m 15s\n",
      "525:\tlearn: 17.1837684\ttotal: 3m 23s\tremaining: 1m 46s\n",
      "600:\tlearn: 16.8093673\ttotal: 3m 51s\tremaining: 1m 16s\n",
      "675:\tlearn: 16.4936849\ttotal: 4m 20s\tremaining: 47.7s\n",
      "750:\tlearn: 16.1931590\ttotal: 4m 48s\tremaining: 18.8s\n",
      "799:\tlearn: 16.0166032\ttotal: 5m 6s\tremaining: 0us\n",
      "0:\tlearn: 27.6948663\ttotal: 404ms\tremaining: 5m 22s\n",
      "75:\tlearn: 24.4957535\ttotal: 32.3s\tremaining: 5m 7s\n",
      "150:\tlearn: 23.2509981\ttotal: 1m\tremaining: 4m 19s\n",
      "225:\tlearn: 22.4096749\ttotal: 1m 28s\tremaining: 3m 45s\n",
      "300:\tlearn: 21.7309528\ttotal: 1m 56s\tremaining: 3m 13s\n",
      "375:\tlearn: 21.2160395\ttotal: 2m 25s\tremaining: 2m 43s\n",
      "450:\tlearn: 20.8002237\ttotal: 2m 53s\tremaining: 2m 14s\n",
      "525:\tlearn: 20.3922334\ttotal: 3m 21s\tremaining: 1m 45s\n",
      "600:\tlearn: 20.0041386\ttotal: 3m 49s\tremaining: 1m 16s\n",
      "675:\tlearn: 19.6659666\ttotal: 4m 18s\tremaining: 47.4s\n",
      "750:\tlearn: 19.3509489\ttotal: 4m 48s\tremaining: 18.8s\n",
      "799:\tlearn: 19.1623732\ttotal: 5m 6s\tremaining: 0us\n",
      "0:\tlearn: 71.0102752\ttotal: 572ms\tremaining: 7m 36s\n",
      "75:\tlearn: 56.5941049\ttotal: 32s\tremaining: 5m 5s\n",
      "150:\tlearn: 52.0411131\ttotal: 1m\tremaining: 4m 18s\n",
      "225:\tlearn: 49.7531260\ttotal: 1m 28s\tremaining: 3m 44s\n",
      "300:\tlearn: 48.1872467\ttotal: 1m 56s\tremaining: 3m 12s\n",
      "375:\tlearn: 46.7822695\ttotal: 2m 24s\tremaining: 2m 42s\n",
      "450:\tlearn: 45.6527020\ttotal: 2m 52s\tremaining: 2m 13s\n",
      "525:\tlearn: 44.6483544\ttotal: 3m 20s\tremaining: 1m 44s\n",
      "600:\tlearn: 43.8153911\ttotal: 3m 49s\tremaining: 1m 15s\n",
      "675:\tlearn: 43.0684144\ttotal: 4m 17s\tremaining: 47.2s\n",
      "750:\tlearn: 42.4300820\ttotal: 4m 45s\tremaining: 18.6s\n",
      "799:\tlearn: 42.0017473\ttotal: 5m 4s\tremaining: 0us\n"
     ]
    }
   ],
   "source": [
    "#using catboost to prediect test dataset: using same parameters as while in training\n",
    "\n",
    "catb_pred = CatBoostRegressor(iterations=800,learning_rate=0.2,depth=14,\n",
    "                             eval_metric='RMSE',random_seed = 42,\n",
    "                             bagging_temperature = 0.2,od_type='Iter',\n",
    "                             metric_period = 75, early_stopping_rounds=10)\n",
    "\n",
    "#predicting y1 target:\n",
    "catb_pred.fit(train, y1)\n",
    "y1_pred_set1=catb_pred.predict(test)\n",
    "\n",
    "#predicting y2 target:\n",
    "catb_pred.fit(train, y2)\n",
    "y2_pred_set1=catb_pred.predict(test)\n",
    "\n",
    "#predicting y3 target:\n",
    "catb_pred.fit(train, y3)\n",
    "y3_pred_set1=catb_pred.predict(test)\n",
    "\n",
    "#predicting y4 target:\n",
    "catb_pred.fit(train, y4)\n",
    "y4_pred_set1=catb_pred.predict(test)\n",
    "\n",
    "#predicting y5 target:\n",
    "catb_pred.fit(train, y5)\n",
    "y5_pred_set1=catb_pred.predict(test)\n"
   ]
  },
  {
   "cell_type": "markdown",
   "metadata": {},
   "source": [
    "**Prediction-2: Second Prediction Set -> Set2**"
   ]
  },
  {
   "cell_type": "code",
   "execution_count": 54,
   "metadata": {},
   "outputs": [],
   "source": [
    "#using lightGBM for predicting test dataset:using same parameters as while in training\n",
    "\n",
    "lgbm_pred = lgb.LGBMRegressor(objective='regression',learning_rate=0.5, n_estimators=1200,\n",
    "                              colsample_bytree=1.0, num_leaves=200,max_depth=10,metric='rmse',\n",
    "                              min_child_samples=100, subsample=1)\n",
    "\n",
    "#predicting y1 target:\n",
    "lgbm_pred.fit(train, y1)\n",
    "y1_pred_set2 = lgbm_pred.predict(test)\n",
    "\n",
    "#predicting y2 target:\n",
    "lgbm_pred.fit(train, y2)\n",
    "y2_pred_set2 = lgbm_pred.predict(test)\n",
    "\n",
    "#predicting y3 target:\n",
    "lgbm_pred.fit(train, y3)\n",
    "y3_pred_set2 = lgbm_pred.predict(test)\n",
    "\n",
    "#predicting y4 target:\n",
    "lgbm_pred.fit(train, y4)\n",
    "y4_pred_set2 = lgbm_pred.predict(test)\n",
    "\n",
    "#predicting y5 target:\n",
    "lgbm_pred.fit(train, y5)\n",
    "y5_pred_set2 = lgbm_pred.predict(test)"
   ]
  },
  {
   "cell_type": "markdown",
   "metadata": {},
   "source": [
    "## Submission : Adding Predictions To Submission File"
   ]
  },
  {
   "cell_type": "markdown",
   "metadata": {},
   "source": [
    "Here creating two seperate submission file for catboost and lightGBM predictions."
   ]
  },
  {
   "cell_type": "code",
   "execution_count": 77,
   "metadata": {},
   "outputs": [],
   "source": [
    "#loading sample submission: making copy for two separate file\n",
    "submission_set1_catboost = pd.read_csv(\"sample_submission.csv\")\n",
    "submission_set2_lightGBM = pd.read_csv(\"sample_submission.csv\")\n",
    "\n",
    "#creating list of predictions: catboost and lightGBM\n",
    "catboost_pred_set1 = [y1_pred_set1, y2_pred_set1, y3_pred_set1, y4_pred_set1, y5_pred_set1]\n",
    "lightGBM_pred_set2 = [y1_pred_set2, y2_pred_set2, y3_pred_set2, y4_pred_set2, y5_pred_set2]\n"
   ]
  },
  {
   "cell_type": "code",
   "execution_count": 87,
   "metadata": {},
   "outputs": [],
   "source": [
    "#function to make submission: separate for catboost and lightGBM\n",
    "def make_submission(single_pred, pred_list, submission_name, sample_df):\n",
    "    prediction_all = []\n",
    "    for i in range(len(single_pred)):\n",
    "        for j in pred_list:\n",
    "            prediction_all.append(j[i])\n",
    "    sample_df[\"Target\"] = pd.Series(prediction_all)\n",
    "    sample_df.to_csv(submission_name, index = False)\n"
   ]
  },
  {
   "cell_type": "code",
   "execution_count": 88,
   "metadata": {},
   "outputs": [],
   "source": [
    "#Set-1:submission -> catboost\n",
    "make_submission(catboost_pred_set1[0], catboost_pred_set1, \"submission_set1_catboost.csv\", submission_set1_catboost)\n",
    "\n",
    "#Set-2:submission -> lightGBM\n",
    "make_submission(lightGBM_pred_set2[0], lightGBM_pred_set2, \"submission_set2_lightGBM.csv\", submission_set2_lightGBM)"
   ]
  },
  {
   "cell_type": "code",
   "execution_count": 89,
   "metadata": {},
   "outputs": [],
   "source": [
    "#looking into first 6 predictions for both : catboost and lightGBM\n",
    "cat = pd.read_csv(\"submission_set1_catboost.csv\")\n",
    "lgbm = pd.read_csv(\"submission_set2_lightGBM.csv\")"
   ]
  },
  {
   "cell_type": "code",
   "execution_count": 90,
   "metadata": {},
   "outputs": [
    {
     "data": {
      "text/html": [
       "<div>\n",
       "<style scoped>\n",
       "    .dataframe tbody tr th:only-of-type {\n",
       "        vertical-align: middle;\n",
       "    }\n",
       "\n",
       "    .dataframe tbody tr th {\n",
       "        vertical-align: top;\n",
       "    }\n",
       "\n",
       "    .dataframe thead th {\n",
       "        text-align: right;\n",
       "    }\n",
       "</style>\n",
       "<table border=\"1\" class=\"dataframe\">\n",
       "  <thead>\n",
       "    <tr style=\"text-align: right;\">\n",
       "      <th></th>\n",
       "      <th>TargetId</th>\n",
       "      <th>Target</th>\n",
       "    </tr>\n",
       "  </thead>\n",
       "  <tbody>\n",
       "    <tr>\n",
       "      <th>0</th>\n",
       "      <td>0_0</td>\n",
       "      <td>-3.161775</td>\n",
       "    </tr>\n",
       "    <tr>\n",
       "      <th>1</th>\n",
       "      <td>0_1</td>\n",
       "      <td>10.535286</td>\n",
       "    </tr>\n",
       "    <tr>\n",
       "      <th>2</th>\n",
       "      <td>0_2</td>\n",
       "      <td>26.896336</td>\n",
       "    </tr>\n",
       "    <tr>\n",
       "      <th>3</th>\n",
       "      <td>0_3</td>\n",
       "      <td>-3.259313</td>\n",
       "    </tr>\n",
       "    <tr>\n",
       "      <th>4</th>\n",
       "      <td>0_4</td>\n",
       "      <td>4.056283</td>\n",
       "    </tr>\n",
       "    <tr>\n",
       "      <th>5</th>\n",
       "      <td>0_5</td>\n",
       "      <td>0.007131</td>\n",
       "    </tr>\n",
       "  </tbody>\n",
       "</table>\n",
       "</div>"
      ],
      "text/plain": [
       "  TargetId     Target\n",
       "0      0_0  -3.161775\n",
       "1      0_1  10.535286\n",
       "2      0_2  26.896336\n",
       "3      0_3  -3.259313\n",
       "4      0_4   4.056283\n",
       "5      0_5   0.007131"
      ]
     },
     "execution_count": 90,
     "metadata": {},
     "output_type": "execute_result"
    }
   ],
   "source": [
    "cat.head(6)"
   ]
  },
  {
   "cell_type": "code",
   "execution_count": 91,
   "metadata": {},
   "outputs": [
    {
     "data": {
      "text/html": [
       "<div>\n",
       "<style scoped>\n",
       "    .dataframe tbody tr th:only-of-type {\n",
       "        vertical-align: middle;\n",
       "    }\n",
       "\n",
       "    .dataframe tbody tr th {\n",
       "        vertical-align: top;\n",
       "    }\n",
       "\n",
       "    .dataframe thead th {\n",
       "        text-align: right;\n",
       "    }\n",
       "</style>\n",
       "<table border=\"1\" class=\"dataframe\">\n",
       "  <thead>\n",
       "    <tr style=\"text-align: right;\">\n",
       "      <th></th>\n",
       "      <th>TargetId</th>\n",
       "      <th>Target</th>\n",
       "    </tr>\n",
       "  </thead>\n",
       "  <tbody>\n",
       "    <tr>\n",
       "      <th>0</th>\n",
       "      <td>0_0</td>\n",
       "      <td>-4.289570</td>\n",
       "    </tr>\n",
       "    <tr>\n",
       "      <th>1</th>\n",
       "      <td>0_1</td>\n",
       "      <td>4.211500</td>\n",
       "    </tr>\n",
       "    <tr>\n",
       "      <th>2</th>\n",
       "      <td>0_2</td>\n",
       "      <td>18.688586</td>\n",
       "    </tr>\n",
       "    <tr>\n",
       "      <th>3</th>\n",
       "      <td>0_3</td>\n",
       "      <td>-2.993942</td>\n",
       "    </tr>\n",
       "    <tr>\n",
       "      <th>4</th>\n",
       "      <td>0_4</td>\n",
       "      <td>85.454325</td>\n",
       "    </tr>\n",
       "    <tr>\n",
       "      <th>5</th>\n",
       "      <td>0_5</td>\n",
       "      <td>-3.198083</td>\n",
       "    </tr>\n",
       "  </tbody>\n",
       "</table>\n",
       "</div>"
      ],
      "text/plain": [
       "  TargetId     Target\n",
       "0      0_0  -4.289570\n",
       "1      0_1   4.211500\n",
       "2      0_2  18.688586\n",
       "3      0_3  -2.993942\n",
       "4      0_4  85.454325\n",
       "5      0_5  -3.198083"
      ]
     },
     "execution_count": 91,
     "metadata": {},
     "output_type": "execute_result"
    }
   ],
   "source": [
    "lgbm.head(6)"
   ]
  }
 ],
 "metadata": {
  "kernelspec": {
   "display_name": "Python 3",
   "language": "python",
   "name": "python3"
  },
  "language_info": {
   "codemirror_mode": {
    "name": "ipython",
    "version": 3
   },
   "file_extension": ".py",
   "mimetype": "text/x-python",
   "name": "python",
   "nbconvert_exporter": "python",
   "pygments_lexer": "ipython3",
   "version": "3.7.1"
  }
 },
 "nbformat": 4,
 "nbformat_minor": 2
}
